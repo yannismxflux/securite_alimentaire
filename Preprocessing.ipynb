{
 "cells": [
  {
   "cell_type": "code",
   "execution_count": 2,
   "metadata": {
    "cell_id": "66adaeeb-2148-4611-b321-959c08bb90b2",
    "deepnote_cell_type": "code",
    "deepnote_to_be_reexecuted": false,
    "execution_millis": 1,
    "execution_start": 1643812388106,
    "source_hash": "66a6f8a7",
    "tags": []
   },
   "outputs": [],
   "source": [
    "# Start writing code here...\n",
    "import pandas as pd"
   ]
  },
  {
   "cell_type": "code",
   "execution_count": 32,
   "metadata": {
    "cell_id": "fefe4078-a01b-4427-8ddc-dbeaaec357b9",
    "deepnote_cell_type": "code",
    "deepnote_to_be_reexecuted": false,
    "execution_millis": 213,
    "execution_start": 1643815827863,
    "source_hash": "900c7601",
    "tags": []
   },
   "outputs": [
    {
     "data": {
      "application/vnd.deepnote.dataframe.v3+json": {
       "column_count": 14,
       "columns": [
        {
         "dtype": "object",
         "name": "SIRET",
         "stats": {
          "categories": [
           {
            "count": 1,
            "name": "30247464800789"
           },
           {
            "count": 1,
            "name": "30112032500024"
           },
           {
            "count": 3,
            "name": "3 others"
           }
          ],
          "nan_count": 0,
          "unique_count": 5
         }
        },
        {
         "dtype": "int64",
         "name": "Code_postal",
         "stats": {
          "histogram": [
           {
            "bin_end": 71979,
            "bin_start": 69500,
            "count": 1
           },
           {
            "bin_end": 74458,
            "bin_start": 71979,
            "count": 0
           },
           {
            "bin_end": 76937,
            "bin_start": 74458,
            "count": 0
           },
           {
            "bin_end": 79416,
            "bin_start": 76937,
            "count": 1
           },
           {
            "bin_end": 81895,
            "bin_start": 79416,
            "count": 0
           },
           {
            "bin_end": 84374,
            "bin_start": 81895,
            "count": 0
           },
           {
            "bin_end": 86853,
            "bin_start": 84374,
            "count": 0
           },
           {
            "bin_end": 89332,
            "bin_start": 86853,
            "count": 0
           },
           {
            "bin_end": 91811,
            "bin_start": 89332,
            "count": 0
           },
           {
            "bin_end": 94290,
            "bin_start": 91811,
            "count": 3
           }
          ],
          "max": "94290",
          "min": "69500",
          "nan_count": 0,
          "unique_count": 5
         }
        },
        {
         "dtype": "object",
         "name": "Numero_inspection",
         "stats": {
          "categories": [
           {
            "count": 1,
            "name": "15914760"
           },
           {
            "count": 1,
            "name": "16252422"
           },
           {
            "count": 3,
            "name": "3 others"
           }
          ],
          "nan_count": 0,
          "unique_count": 5
         }
        },
        {
         "dtype": "object",
         "name": "Date_inspection",
         "stats": {
          "categories": [
           {
            "count": 1,
            "name": "2021-03-03 00:00:00+00:00"
           },
           {
            "count": 1,
            "name": "2021-11-26 00:00:00+00:00"
           },
           {
            "count": 3,
            "name": "3 others"
           }
          ],
          "nan_count": 0,
          "unique_count": 5
         }
        },
        {
         "dtype": "int64",
         "name": "Agrement",
         "stats": {
          "histogram": [
           {
            "bin_end": -0.4,
            "bin_start": -0.5,
            "count": 0
           },
           {
            "bin_end": -0.3,
            "bin_start": -0.4,
            "count": 0
           },
           {
            "bin_end": -0.19999999999999996,
            "bin_start": -0.3,
            "count": 0
           },
           {
            "bin_end": -0.09999999999999998,
            "bin_start": -0.19999999999999996,
            "count": 0
           },
           {
            "bin_end": 0,
            "bin_start": -0.09999999999999998,
            "count": 0
           },
           {
            "bin_end": 0.10000000000000009,
            "bin_start": 0,
            "count": 5
           },
           {
            "bin_end": 0.20000000000000007,
            "bin_start": 0.10000000000000009,
            "count": 0
           },
           {
            "bin_end": 0.30000000000000004,
            "bin_start": 0.20000000000000007,
            "count": 0
           },
           {
            "bin_end": 0.4,
            "bin_start": 0.30000000000000004,
            "count": 0
           },
           {
            "bin_end": 0.5,
            "bin_start": 0.4,
            "count": 0
           }
          ],
          "max": "0",
          "min": "0",
          "nan_count": 0,
          "unique_count": 1
         }
        },
        {
         "dtype": "float64",
         "name": "synthese_eval_encode",
         "stats": {
          "histogram": [
           {
            "bin_end": 0.1,
            "bin_start": 0,
            "count": 2
           },
           {
            "bin_end": 0.2,
            "bin_start": 0.1,
            "count": 0
           },
           {
            "bin_end": 0.30000000000000004,
            "bin_start": 0.2,
            "count": 0
           },
           {
            "bin_end": 0.4,
            "bin_start": 0.30000000000000004,
            "count": 0
           },
           {
            "bin_end": 0.5,
            "bin_start": 0.4,
            "count": 0
           },
           {
            "bin_end": 0.6000000000000001,
            "bin_start": 0.5,
            "count": 0
           },
           {
            "bin_end": 0.7000000000000001,
            "bin_start": 0.6000000000000001,
            "count": 0
           },
           {
            "bin_end": 0.8,
            "bin_start": 0.7000000000000001,
            "count": 0
           },
           {
            "bin_end": 0.9,
            "bin_start": 0.8,
            "count": 0
           },
           {
            "bin_end": 1,
            "bin_start": 0.9,
            "count": 3
           }
          ],
          "max": "1.0",
          "min": "0.0",
          "nan_count": 0,
          "unique_count": 2
         }
        },
        {
         "dtype": "int64",
         "name": "month",
         "stats": {
          "histogram": [
           {
            "bin_end": 2.9,
            "bin_start": 2,
            "count": 2
           },
           {
            "bin_end": 3.8,
            "bin_start": 2.9,
            "count": 1
           },
           {
            "bin_end": 4.7,
            "bin_start": 3.8,
            "count": 1
           },
           {
            "bin_end": 5.6,
            "bin_start": 4.7,
            "count": 0
           },
           {
            "bin_end": 6.5,
            "bin_start": 5.6,
            "count": 0
           },
           {
            "bin_end": 7.4,
            "bin_start": 6.5,
            "count": 0
           },
           {
            "bin_end": 8.3,
            "bin_start": 7.4,
            "count": 0
           },
           {
            "bin_end": 9.2,
            "bin_start": 8.3,
            "count": 0
           },
           {
            "bin_end": 10.1,
            "bin_start": 9.2,
            "count": 0
           },
           {
            "bin_end": 11,
            "bin_start": 10.1,
            "count": 1
           }
          ],
          "max": "11",
          "min": "2",
          "nan_count": 0,
          "unique_count": 4
         }
        },
        {
         "dtype": "float64",
         "name": "month_sin",
         "stats": {
          "histogram": [
           {
            "bin_end": -0.3500000000000004,
            "bin_start": -0.5000000000000004,
            "count": 1
           },
           {
            "bin_end": -0.20000000000000034,
            "bin_start": -0.3500000000000004,
            "count": 0
           },
           {
            "bin_end": -0.050000000000000266,
            "bin_start": -0.20000000000000034,
            "count": 0
           },
           {
            "bin_end": 0.09999999999999976,
            "bin_start": -0.050000000000000266,
            "count": 0
           },
           {
            "bin_end": 0.24999999999999978,
            "bin_start": 0.09999999999999976,
            "count": 0
           },
           {
            "bin_end": 0.3999999999999999,
            "bin_start": 0.24999999999999978,
            "count": 0
           },
           {
            "bin_end": 0.5499999999999998,
            "bin_start": 0.3999999999999999,
            "count": 0
           },
           {
            "bin_end": 0.7,
            "bin_start": 0.5499999999999998,
            "count": 0
           },
           {
            "bin_end": 0.8500000000000001,
            "bin_start": 0.7,
            "count": 0
           },
           {
            "bin_end": 1,
            "bin_start": 0.8500000000000001,
            "count": 4
           }
          ],
          "max": "1.0",
          "min": "-0.5000000000000004",
          "nan_count": 0,
          "unique_count": 4
         }
        },
        {
         "dtype": "float64",
         "name": "month_cos",
         "stats": {
          "histogram": [
           {
            "bin_end": -0.36339745962155595,
            "bin_start": -0.4999999999999998,
            "count": 1
           },
           {
            "bin_end": -0.22679491924311213,
            "bin_start": -0.36339745962155595,
            "count": 0
           },
           {
            "bin_end": -0.0901923788646683,
            "bin_start": -0.22679491924311213,
            "count": 0
           },
           {
            "bin_end": 0.04641016151377553,
            "bin_start": -0.0901923788646683,
            "count": 1
           },
           {
            "bin_end": 0.1830127018922194,
            "bin_start": 0.04641016151377553,
            "count": 0
           },
           {
            "bin_end": 0.3196152422706632,
            "bin_start": 0.1830127018922194,
            "count": 0
           },
           {
            "bin_end": 0.45621778264910695,
            "bin_start": 0.3196152422706632,
            "count": 0
           },
           {
            "bin_end": 0.5928203230275508,
            "bin_start": 0.45621778264910695,
            "count": 2
           },
           {
            "bin_end": 0.7294228634059947,
            "bin_start": 0.5928203230275508,
            "count": 0
           },
           {
            "bin_end": 0.8660254037844384,
            "bin_start": 0.7294228634059947,
            "count": 1
           }
          ],
          "max": "0.8660254037844384",
          "min": "-0.4999999999999998",
          "nan_count": 0,
          "unique_count": 4
         }
        },
        {
         "dtype": "int64",
         "name": "day",
         "stats": {
          "histogram": [
           {
            "bin_end": 2.9,
            "bin_start": 2,
            "count": 2
           },
           {
            "bin_end": 3.8,
            "bin_start": 2.9,
            "count": 1
           },
           {
            "bin_end": 4.7,
            "bin_start": 3.8,
            "count": 1
           },
           {
            "bin_end": 5.6,
            "bin_start": 4.7,
            "count": 0
           },
           {
            "bin_end": 6.5,
            "bin_start": 5.6,
            "count": 0
           },
           {
            "bin_end": 7.4,
            "bin_start": 6.5,
            "count": 0
           },
           {
            "bin_end": 8.3,
            "bin_start": 7.4,
            "count": 0
           },
           {
            "bin_end": 9.2,
            "bin_start": 8.3,
            "count": 0
           },
           {
            "bin_end": 10.1,
            "bin_start": 9.2,
            "count": 0
           },
           {
            "bin_end": 11,
            "bin_start": 10.1,
            "count": 1
           }
          ],
          "max": "11",
          "min": "2",
          "nan_count": 0,
          "unique_count": 4
         }
        },
        {
         "dtype": "float64",
         "name": "day_sin",
         "stats": {
          "histogram": [
           {
            "bin_end": 0.04980212144479555,
            "bin_start": 0.0344216116227457,
            "count": 2
           },
           {
            "bin_end": 0.0651826312668454,
            "bin_start": 0.04980212144479555,
            "count": 1
           },
           {
            "bin_end": 0.08056314108889526,
            "bin_start": 0.0651826312668454,
            "count": 1
           },
           {
            "bin_end": 0.09594365091094509,
            "bin_start": 0.08056314108889526,
            "count": 0
           },
           {
            "bin_end": 0.11132416073299495,
            "bin_start": 0.09594365091094509,
            "count": 0
           },
           {
            "bin_end": 0.1267046705550448,
            "bin_start": 0.11132416073299495,
            "count": 0
           },
           {
            "bin_end": 0.14208518037709464,
            "bin_start": 0.1267046705550448,
            "count": 0
           },
           {
            "bin_end": 0.1574656901991445,
            "bin_start": 0.14208518037709464,
            "count": 0
           },
           {
            "bin_end": 0.17284620002119436,
            "bin_start": 0.1574656901991445,
            "count": 0
           },
           {
            "bin_end": 0.1882267098432442,
            "bin_start": 0.17284620002119436,
            "count": 1
           }
          ],
          "max": "0.1882267098432442",
          "min": "0.0344216116227457",
          "nan_count": 0,
          "unique_count": 4
         }
        },
        {
         "dtype": "float64",
         "name": "day_cos",
         "stats": {
          "histogram": [
           {
            "bin_end": 0.983853785355171,
            "bin_start": 0.9821256058680006,
            "count": 1
           },
           {
            "bin_end": 0.9855819648423414,
            "bin_start": 0.983853785355171,
            "count": 0
           },
           {
            "bin_end": 0.9873101443295118,
            "bin_start": 0.9855819648423414,
            "count": 0
           },
           {
            "bin_end": 0.9890383238166822,
            "bin_start": 0.9873101443295118,
            "count": 0
           },
           {
            "bin_end": 0.9907665033038526,
            "bin_start": 0.9890383238166822,
            "count": 0
           },
           {
            "bin_end": 0.9924946827910232,
            "bin_start": 0.9907665033038526,
            "count": 0
           },
           {
            "bin_end": 0.9942228622781936,
            "bin_start": 0.9924946827910232,
            "count": 0
           },
           {
            "bin_end": 0.995951041765364,
            "bin_start": 0.9942228622781936,
            "count": 0
           },
           {
            "bin_end": 0.9976792212525344,
            "bin_start": 0.995951041765364,
            "count": 1
           },
           {
            "bin_end": 0.9994074007397048,
            "bin_start": 0.9976792212525344,
            "count": 3
           }
          ],
          "max": "0.9994074007397048",
          "min": "0.9821256058680006",
          "nan_count": 0,
          "unique_count": 4
         }
        },
        {
         "dtype": "int64",
         "name": "activite_category",
         "stats": {
          "histogram": [
           {
            "bin_end": 8.1,
            "bin_start": 1,
            "count": 3
           },
           {
            "bin_end": 15.2,
            "bin_start": 8.1,
            "count": 0
           },
           {
            "bin_end": 22.299999999999997,
            "bin_start": 15.2,
            "count": 0
           },
           {
            "bin_end": 29.4,
            "bin_start": 22.299999999999997,
            "count": 0
           },
           {
            "bin_end": 36.5,
            "bin_start": 29.4,
            "count": 0
           },
           {
            "bin_end": 43.599999999999994,
            "bin_start": 36.5,
            "count": 0
           },
           {
            "bin_end": 50.699999999999996,
            "bin_start": 43.599999999999994,
            "count": 0
           },
           {
            "bin_end": 57.8,
            "bin_start": 50.699999999999996,
            "count": 0
           },
           {
            "bin_end": 64.9,
            "bin_start": 57.8,
            "count": 1
           },
           {
            "bin_end": 72,
            "bin_start": 64.9,
            "count": 1
           }
          ],
          "max": "72",
          "min": "1",
          "nan_count": 0,
          "unique_count": 3
         }
        },
        {
         "dtype": "int64",
         "name": "departement",
         "stats": {
          "histogram": [
           {
            "bin_end": 71.5,
            "bin_start": 69,
            "count": 1
           },
           {
            "bin_end": 74,
            "bin_start": 71.5,
            "count": 0
           },
           {
            "bin_end": 76.5,
            "bin_start": 74,
            "count": 0
           },
           {
            "bin_end": 79,
            "bin_start": 76.5,
            "count": 1
           },
           {
            "bin_end": 81.5,
            "bin_start": 79,
            "count": 0
           },
           {
            "bin_end": 84,
            "bin_start": 81.5,
            "count": 0
           },
           {
            "bin_end": 86.5,
            "bin_start": 84,
            "count": 0
           },
           {
            "bin_end": 89,
            "bin_start": 86.5,
            "count": 0
           },
           {
            "bin_end": 91.5,
            "bin_start": 89,
            "count": 0
           },
           {
            "bin_end": 94,
            "bin_start": 91.5,
            "count": 3
           }
          ],
          "max": "94",
          "min": "69",
          "nan_count": 0,
          "unique_count": 4
         }
        },
        {
         "dtype": "int64",
         "name": "_deepnote_index_column"
        }
       ],
       "row_count": 5,
       "rows": [
        {
         "Agrement": 0,
         "Code_postal": 92240,
         "Date_inspection": "2021-03-03 00:00:00+00:00",
         "Numero_inspection": "15914760",
         "SIRET": "30247464800789",
         "_deepnote_index_column": 0,
         "activite_category": 1,
         "day": 3,
         "day_cos": 0.998666816288476,
         "day_sin": 0.0516196672232537,
         "departement": 92,
         "month": 3,
         "month_cos": 6.123233995736766e-17,
         "month_sin": 1,
         "synthese_eval_encode": 1
        },
        {
         "Agrement": 0,
         "Code_postal": 69500,
         "Date_inspection": "2021-11-26 00:00:00+00:00",
         "Numero_inspection": "16252422",
         "SIRET": "30112032500024",
         "_deepnote_index_column": 1,
         "activite_category": 58,
         "day": 11,
         "day_cos": 0.9821256058680006,
         "day_sin": 0.1882267098432442,
         "departement": 69,
         "month": 11,
         "month_cos": 0.8660254037844384,
         "month_sin": -0.5000000000000004,
         "synthese_eval_encode": 0
        },
        {
         "Agrement": 0,
         "Code_postal": 92800,
         "Date_inspection": "2021-02-22 00:00:00+00:00",
         "Numero_inspection": "15903092",
         "SIRET": "30247464801894",
         "_deepnote_index_column": 2,
         "activite_category": 1,
         "day": 2,
         "day_cos": 0.9994074007397048,
         "day_sin": 0.0344216116227457,
         "departement": 92,
         "month": 2,
         "month_cos": 0.5000000000000001,
         "month_sin": 0.8660254037844386,
         "synthese_eval_encode": 0
        },
        {
         "Agrement": 0,
         "Code_postal": 78460,
         "Date_inspection": "2021-02-19 00:00:00+00:00",
         "Numero_inspection": "15901554",
         "SIRET": "30890741900011",
         "_deepnote_index_column": 3,
         "activite_category": 72,
         "day": 2,
         "day_cos": 0.9994074007397048,
         "day_sin": 0.0344216116227457,
         "departement": 78,
         "month": 2,
         "month_cos": 0.5000000000000001,
         "month_sin": 0.8660254037844386,
         "synthese_eval_encode": 1
        },
        {
         "Agrement": 0,
         "Code_postal": 94290,
         "Date_inspection": "2021-04-14 00:00:00+00:00",
         "Numero_inspection": "15968279",
         "SIRET": "30668909200022",
         "_deepnote_index_column": 4,
         "activite_category": 1,
         "day": 4,
         "day_cos": 0.9976303053065856,
         "day_sin": 0.0688024268023198,
         "departement": 94,
         "month": 4,
         "month_cos": -0.4999999999999998,
         "month_sin": 0.8660254037844387,
         "synthese_eval_encode": 1
        }
       ]
      },
      "text/html": [
       "<div>\n",
       "<style scoped>\n",
       "    .dataframe tbody tr th:only-of-type {\n",
       "        vertical-align: middle;\n",
       "    }\n",
       "\n",
       "    .dataframe tbody tr th {\n",
       "        vertical-align: top;\n",
       "    }\n",
       "\n",
       "    .dataframe thead th {\n",
       "        text-align: right;\n",
       "    }\n",
       "</style>\n",
       "<table border=\"1\" class=\"dataframe\">\n",
       "  <thead>\n",
       "    <tr style=\"text-align: right;\">\n",
       "      <th></th>\n",
       "      <th>SIRET</th>\n",
       "      <th>Code_postal</th>\n",
       "      <th>Numero_inspection</th>\n",
       "      <th>Date_inspection</th>\n",
       "      <th>Agrement</th>\n",
       "      <th>synthese_eval_encode</th>\n",
       "      <th>month</th>\n",
       "      <th>month_sin</th>\n",
       "      <th>month_cos</th>\n",
       "      <th>day</th>\n",
       "      <th>day_sin</th>\n",
       "      <th>day_cos</th>\n",
       "      <th>activite_category</th>\n",
       "      <th>departement</th>\n",
       "    </tr>\n",
       "  </thead>\n",
       "  <tbody>\n",
       "    <tr>\n",
       "      <th>0</th>\n",
       "      <td>30247464800789</td>\n",
       "      <td>92240</td>\n",
       "      <td>15914760</td>\n",
       "      <td>2021-03-03 00:00:00+00:00</td>\n",
       "      <td>0</td>\n",
       "      <td>1.0</td>\n",
       "      <td>3</td>\n",
       "      <td>1.000000</td>\n",
       "      <td>6.123234e-17</td>\n",
       "      <td>3</td>\n",
       "      <td>0.051620</td>\n",
       "      <td>0.998667</td>\n",
       "      <td>1</td>\n",
       "      <td>92</td>\n",
       "    </tr>\n",
       "    <tr>\n",
       "      <th>1</th>\n",
       "      <td>30112032500024</td>\n",
       "      <td>69500</td>\n",
       "      <td>16252422</td>\n",
       "      <td>2021-11-26 00:00:00+00:00</td>\n",
       "      <td>0</td>\n",
       "      <td>0.0</td>\n",
       "      <td>11</td>\n",
       "      <td>-0.500000</td>\n",
       "      <td>8.660254e-01</td>\n",
       "      <td>11</td>\n",
       "      <td>0.188227</td>\n",
       "      <td>0.982126</td>\n",
       "      <td>58</td>\n",
       "      <td>69</td>\n",
       "    </tr>\n",
       "    <tr>\n",
       "      <th>2</th>\n",
       "      <td>30247464801894</td>\n",
       "      <td>92800</td>\n",
       "      <td>15903092</td>\n",
       "      <td>2021-02-22 00:00:00+00:00</td>\n",
       "      <td>0</td>\n",
       "      <td>0.0</td>\n",
       "      <td>2</td>\n",
       "      <td>0.866025</td>\n",
       "      <td>5.000000e-01</td>\n",
       "      <td>2</td>\n",
       "      <td>0.034422</td>\n",
       "      <td>0.999407</td>\n",
       "      <td>1</td>\n",
       "      <td>92</td>\n",
       "    </tr>\n",
       "    <tr>\n",
       "      <th>3</th>\n",
       "      <td>30890741900011</td>\n",
       "      <td>78460</td>\n",
       "      <td>15901554</td>\n",
       "      <td>2021-02-19 00:00:00+00:00</td>\n",
       "      <td>0</td>\n",
       "      <td>1.0</td>\n",
       "      <td>2</td>\n",
       "      <td>0.866025</td>\n",
       "      <td>5.000000e-01</td>\n",
       "      <td>2</td>\n",
       "      <td>0.034422</td>\n",
       "      <td>0.999407</td>\n",
       "      <td>72</td>\n",
       "      <td>78</td>\n",
       "    </tr>\n",
       "    <tr>\n",
       "      <th>4</th>\n",
       "      <td>30668909200022</td>\n",
       "      <td>94290</td>\n",
       "      <td>15968279</td>\n",
       "      <td>2021-04-14 00:00:00+00:00</td>\n",
       "      <td>0</td>\n",
       "      <td>1.0</td>\n",
       "      <td>4</td>\n",
       "      <td>0.866025</td>\n",
       "      <td>-5.000000e-01</td>\n",
       "      <td>4</td>\n",
       "      <td>0.068802</td>\n",
       "      <td>0.997630</td>\n",
       "      <td>1</td>\n",
       "      <td>94</td>\n",
       "    </tr>\n",
       "  </tbody>\n",
       "</table>\n",
       "</div>"
      ],
      "text/plain": [
       "            SIRET  Code_postal Numero_inspection            Date_inspection  \\\n",
       "0  30247464800789        92240          15914760  2021-03-03 00:00:00+00:00   \n",
       "1  30112032500024        69500          16252422  2021-11-26 00:00:00+00:00   \n",
       "2  30247464801894        92800          15903092  2021-02-22 00:00:00+00:00   \n",
       "3  30890741900011        78460          15901554  2021-02-19 00:00:00+00:00   \n",
       "4  30668909200022        94290          15968279  2021-04-14 00:00:00+00:00   \n",
       "\n",
       "   Agrement  synthese_eval_encode  month  month_sin     month_cos  day  \\\n",
       "0         0                   1.0      3   1.000000  6.123234e-17    3   \n",
       "1         0                   0.0     11  -0.500000  8.660254e-01   11   \n",
       "2         0                   0.0      2   0.866025  5.000000e-01    2   \n",
       "3         0                   1.0      2   0.866025  5.000000e-01    2   \n",
       "4         0                   1.0      4   0.866025 -5.000000e-01    4   \n",
       "\n",
       "    day_sin   day_cos  activite_category  departement  \n",
       "0  0.051620  0.998667                  1           92  \n",
       "1  0.188227  0.982126                 58           69  \n",
       "2  0.034422  0.999407                  1           92  \n",
       "3  0.034422  0.999407                 72           78  \n",
       "4  0.068802  0.997630                  1           94  "
      ]
     },
     "execution_count": 32,
     "metadata": {},
     "output_type": "execute_result"
    }
   ],
   "source": [
    "df = pd.read_csv(\"matrice.csv\")\n",
    "df.head()"
   ]
  },
  {
   "cell_type": "code",
   "execution_count": 31,
   "metadata": {
    "cell_id": "8c16094b-cf46-4983-bd3a-0b8d61f3ccf8",
    "deepnote_cell_type": "code",
    "deepnote_to_be_reexecuted": false,
    "execution_millis": 21,
    "execution_start": 1643815807191,
    "source_hash": "1f23fa73",
    "tags": []
   },
   "outputs": [
    {
     "name": "stdout",
     "output_type": "stream",
     "text": [
      "Numero_inspection\n",
      "Date_inspection\n"
     ]
    }
   ],
   "source": [
    "for i in df:\n",
    "    try:\n",
    "        df[i] = df[i].astype(int)\n",
    "    except:\n",
    "        print(i)"
   ]
  },
  {
   "cell_type": "code",
   "execution_count": 34,
   "metadata": {
    "cell_id": "411de7a3-2454-41b8-aa83-e8226e664108",
    "deepnote_cell_type": "code",
    "deepnote_to_be_reexecuted": false,
    "execution_millis": 141,
    "execution_start": 1643815865943,
    "source_hash": "627b9bc9",
    "tags": []
   },
   "outputs": [
    {
     "data": {
      "application/vnd.deepnote.dataframe.v3+json": {
       "column_count": 11,
       "columns": [
        {
         "dtype": "int64",
         "name": "Code_postal",
         "stats": {
          "histogram": [
           {
            "bin_end": 71979,
            "bin_start": 69500,
            "count": 1
           },
           {
            "bin_end": 74458,
            "bin_start": 71979,
            "count": 0
           },
           {
            "bin_end": 76937,
            "bin_start": 74458,
            "count": 0
           },
           {
            "bin_end": 79416,
            "bin_start": 76937,
            "count": 1
           },
           {
            "bin_end": 81895,
            "bin_start": 79416,
            "count": 0
           },
           {
            "bin_end": 84374,
            "bin_start": 81895,
            "count": 0
           },
           {
            "bin_end": 86853,
            "bin_start": 84374,
            "count": 0
           },
           {
            "bin_end": 89332,
            "bin_start": 86853,
            "count": 0
           },
           {
            "bin_end": 91811,
            "bin_start": 89332,
            "count": 0
           },
           {
            "bin_end": 94290,
            "bin_start": 91811,
            "count": 3
           }
          ],
          "max": "94290",
          "min": "69500",
          "nan_count": 0,
          "unique_count": 5
         }
        },
        {
         "dtype": "int64",
         "name": "Agrement",
         "stats": {
          "histogram": [
           {
            "bin_end": -0.4,
            "bin_start": -0.5,
            "count": 0
           },
           {
            "bin_end": -0.3,
            "bin_start": -0.4,
            "count": 0
           },
           {
            "bin_end": -0.19999999999999996,
            "bin_start": -0.3,
            "count": 0
           },
           {
            "bin_end": -0.09999999999999998,
            "bin_start": -0.19999999999999996,
            "count": 0
           },
           {
            "bin_end": 0,
            "bin_start": -0.09999999999999998,
            "count": 0
           },
           {
            "bin_end": 0.10000000000000009,
            "bin_start": 0,
            "count": 5
           },
           {
            "bin_end": 0.20000000000000007,
            "bin_start": 0.10000000000000009,
            "count": 0
           },
           {
            "bin_end": 0.30000000000000004,
            "bin_start": 0.20000000000000007,
            "count": 0
           },
           {
            "bin_end": 0.4,
            "bin_start": 0.30000000000000004,
            "count": 0
           },
           {
            "bin_end": 0.5,
            "bin_start": 0.4,
            "count": 0
           }
          ],
          "max": "0",
          "min": "0",
          "nan_count": 0,
          "unique_count": 1
         }
        },
        {
         "dtype": "float64",
         "name": "synthese_eval_encode",
         "stats": {
          "histogram": [
           {
            "bin_end": 0.1,
            "bin_start": 0,
            "count": 2
           },
           {
            "bin_end": 0.2,
            "bin_start": 0.1,
            "count": 0
           },
           {
            "bin_end": 0.30000000000000004,
            "bin_start": 0.2,
            "count": 0
           },
           {
            "bin_end": 0.4,
            "bin_start": 0.30000000000000004,
            "count": 0
           },
           {
            "bin_end": 0.5,
            "bin_start": 0.4,
            "count": 0
           },
           {
            "bin_end": 0.6000000000000001,
            "bin_start": 0.5,
            "count": 0
           },
           {
            "bin_end": 0.7000000000000001,
            "bin_start": 0.6000000000000001,
            "count": 0
           },
           {
            "bin_end": 0.8,
            "bin_start": 0.7000000000000001,
            "count": 0
           },
           {
            "bin_end": 0.9,
            "bin_start": 0.8,
            "count": 0
           },
           {
            "bin_end": 1,
            "bin_start": 0.9,
            "count": 3
           }
          ],
          "max": "1.0",
          "min": "0.0",
          "nan_count": 0,
          "unique_count": 2
         }
        },
        {
         "dtype": "int64",
         "name": "month",
         "stats": {
          "histogram": [
           {
            "bin_end": 2.9,
            "bin_start": 2,
            "count": 2
           },
           {
            "bin_end": 3.8,
            "bin_start": 2.9,
            "count": 1
           },
           {
            "bin_end": 4.7,
            "bin_start": 3.8,
            "count": 1
           },
           {
            "bin_end": 5.6,
            "bin_start": 4.7,
            "count": 0
           },
           {
            "bin_end": 6.5,
            "bin_start": 5.6,
            "count": 0
           },
           {
            "bin_end": 7.4,
            "bin_start": 6.5,
            "count": 0
           },
           {
            "bin_end": 8.3,
            "bin_start": 7.4,
            "count": 0
           },
           {
            "bin_end": 9.2,
            "bin_start": 8.3,
            "count": 0
           },
           {
            "bin_end": 10.1,
            "bin_start": 9.2,
            "count": 0
           },
           {
            "bin_end": 11,
            "bin_start": 10.1,
            "count": 1
           }
          ],
          "max": "11",
          "min": "2",
          "nan_count": 0,
          "unique_count": 4
         }
        },
        {
         "dtype": "float64",
         "name": "month_sin",
         "stats": {
          "histogram": [
           {
            "bin_end": -0.3500000000000004,
            "bin_start": -0.5000000000000004,
            "count": 1
           },
           {
            "bin_end": -0.20000000000000034,
            "bin_start": -0.3500000000000004,
            "count": 0
           },
           {
            "bin_end": -0.050000000000000266,
            "bin_start": -0.20000000000000034,
            "count": 0
           },
           {
            "bin_end": 0.09999999999999976,
            "bin_start": -0.050000000000000266,
            "count": 0
           },
           {
            "bin_end": 0.24999999999999978,
            "bin_start": 0.09999999999999976,
            "count": 0
           },
           {
            "bin_end": 0.3999999999999999,
            "bin_start": 0.24999999999999978,
            "count": 0
           },
           {
            "bin_end": 0.5499999999999998,
            "bin_start": 0.3999999999999999,
            "count": 0
           },
           {
            "bin_end": 0.7,
            "bin_start": 0.5499999999999998,
            "count": 0
           },
           {
            "bin_end": 0.8500000000000001,
            "bin_start": 0.7,
            "count": 0
           },
           {
            "bin_end": 1,
            "bin_start": 0.8500000000000001,
            "count": 4
           }
          ],
          "max": "1.0",
          "min": "-0.5000000000000004",
          "nan_count": 0,
          "unique_count": 4
         }
        },
        {
         "dtype": "float64",
         "name": "month_cos",
         "stats": {
          "histogram": [
           {
            "bin_end": -0.36339745962155595,
            "bin_start": -0.4999999999999998,
            "count": 1
           },
           {
            "bin_end": -0.22679491924311213,
            "bin_start": -0.36339745962155595,
            "count": 0
           },
           {
            "bin_end": -0.0901923788646683,
            "bin_start": -0.22679491924311213,
            "count": 0
           },
           {
            "bin_end": 0.04641016151377553,
            "bin_start": -0.0901923788646683,
            "count": 1
           },
           {
            "bin_end": 0.1830127018922194,
            "bin_start": 0.04641016151377553,
            "count": 0
           },
           {
            "bin_end": 0.3196152422706632,
            "bin_start": 0.1830127018922194,
            "count": 0
           },
           {
            "bin_end": 0.45621778264910695,
            "bin_start": 0.3196152422706632,
            "count": 0
           },
           {
            "bin_end": 0.5928203230275508,
            "bin_start": 0.45621778264910695,
            "count": 2
           },
           {
            "bin_end": 0.7294228634059947,
            "bin_start": 0.5928203230275508,
            "count": 0
           },
           {
            "bin_end": 0.8660254037844384,
            "bin_start": 0.7294228634059947,
            "count": 1
           }
          ],
          "max": "0.8660254037844384",
          "min": "-0.4999999999999998",
          "nan_count": 0,
          "unique_count": 4
         }
        },
        {
         "dtype": "int64",
         "name": "day",
         "stats": {
          "histogram": [
           {
            "bin_end": 2.9,
            "bin_start": 2,
            "count": 2
           },
           {
            "bin_end": 3.8,
            "bin_start": 2.9,
            "count": 1
           },
           {
            "bin_end": 4.7,
            "bin_start": 3.8,
            "count": 1
           },
           {
            "bin_end": 5.6,
            "bin_start": 4.7,
            "count": 0
           },
           {
            "bin_end": 6.5,
            "bin_start": 5.6,
            "count": 0
           },
           {
            "bin_end": 7.4,
            "bin_start": 6.5,
            "count": 0
           },
           {
            "bin_end": 8.3,
            "bin_start": 7.4,
            "count": 0
           },
           {
            "bin_end": 9.2,
            "bin_start": 8.3,
            "count": 0
           },
           {
            "bin_end": 10.1,
            "bin_start": 9.2,
            "count": 0
           },
           {
            "bin_end": 11,
            "bin_start": 10.1,
            "count": 1
           }
          ],
          "max": "11",
          "min": "2",
          "nan_count": 0,
          "unique_count": 4
         }
        },
        {
         "dtype": "float64",
         "name": "day_sin",
         "stats": {
          "histogram": [
           {
            "bin_end": 0.04980212144479555,
            "bin_start": 0.0344216116227457,
            "count": 2
           },
           {
            "bin_end": 0.0651826312668454,
            "bin_start": 0.04980212144479555,
            "count": 1
           },
           {
            "bin_end": 0.08056314108889526,
            "bin_start": 0.0651826312668454,
            "count": 1
           },
           {
            "bin_end": 0.09594365091094509,
            "bin_start": 0.08056314108889526,
            "count": 0
           },
           {
            "bin_end": 0.11132416073299495,
            "bin_start": 0.09594365091094509,
            "count": 0
           },
           {
            "bin_end": 0.1267046705550448,
            "bin_start": 0.11132416073299495,
            "count": 0
           },
           {
            "bin_end": 0.14208518037709464,
            "bin_start": 0.1267046705550448,
            "count": 0
           },
           {
            "bin_end": 0.1574656901991445,
            "bin_start": 0.14208518037709464,
            "count": 0
           },
           {
            "bin_end": 0.17284620002119436,
            "bin_start": 0.1574656901991445,
            "count": 0
           },
           {
            "bin_end": 0.1882267098432442,
            "bin_start": 0.17284620002119436,
            "count": 1
           }
          ],
          "max": "0.1882267098432442",
          "min": "0.0344216116227457",
          "nan_count": 0,
          "unique_count": 4
         }
        },
        {
         "dtype": "float64",
         "name": "day_cos",
         "stats": {
          "histogram": [
           {
            "bin_end": 0.983853785355171,
            "bin_start": 0.9821256058680006,
            "count": 1
           },
           {
            "bin_end": 0.9855819648423414,
            "bin_start": 0.983853785355171,
            "count": 0
           },
           {
            "bin_end": 0.9873101443295118,
            "bin_start": 0.9855819648423414,
            "count": 0
           },
           {
            "bin_end": 0.9890383238166822,
            "bin_start": 0.9873101443295118,
            "count": 0
           },
           {
            "bin_end": 0.9907665033038526,
            "bin_start": 0.9890383238166822,
            "count": 0
           },
           {
            "bin_end": 0.9924946827910232,
            "bin_start": 0.9907665033038526,
            "count": 0
           },
           {
            "bin_end": 0.9942228622781936,
            "bin_start": 0.9924946827910232,
            "count": 0
           },
           {
            "bin_end": 0.995951041765364,
            "bin_start": 0.9942228622781936,
            "count": 0
           },
           {
            "bin_end": 0.9976792212525344,
            "bin_start": 0.995951041765364,
            "count": 1
           },
           {
            "bin_end": 0.9994074007397048,
            "bin_start": 0.9976792212525344,
            "count": 3
           }
          ],
          "max": "0.9994074007397048",
          "min": "0.9821256058680006",
          "nan_count": 0,
          "unique_count": 4
         }
        },
        {
         "dtype": "int64",
         "name": "activite_category",
         "stats": {
          "histogram": [
           {
            "bin_end": 8.1,
            "bin_start": 1,
            "count": 3
           },
           {
            "bin_end": 15.2,
            "bin_start": 8.1,
            "count": 0
           },
           {
            "bin_end": 22.299999999999997,
            "bin_start": 15.2,
            "count": 0
           },
           {
            "bin_end": 29.4,
            "bin_start": 22.299999999999997,
            "count": 0
           },
           {
            "bin_end": 36.5,
            "bin_start": 29.4,
            "count": 0
           },
           {
            "bin_end": 43.599999999999994,
            "bin_start": 36.5,
            "count": 0
           },
           {
            "bin_end": 50.699999999999996,
            "bin_start": 43.599999999999994,
            "count": 0
           },
           {
            "bin_end": 57.8,
            "bin_start": 50.699999999999996,
            "count": 0
           },
           {
            "bin_end": 64.9,
            "bin_start": 57.8,
            "count": 1
           },
           {
            "bin_end": 72,
            "bin_start": 64.9,
            "count": 1
           }
          ],
          "max": "72",
          "min": "1",
          "nan_count": 0,
          "unique_count": 3
         }
        },
        {
         "dtype": "int64",
         "name": "departement",
         "stats": {
          "histogram": [
           {
            "bin_end": 71.5,
            "bin_start": 69,
            "count": 1
           },
           {
            "bin_end": 74,
            "bin_start": 71.5,
            "count": 0
           },
           {
            "bin_end": 76.5,
            "bin_start": 74,
            "count": 0
           },
           {
            "bin_end": 79,
            "bin_start": 76.5,
            "count": 1
           },
           {
            "bin_end": 81.5,
            "bin_start": 79,
            "count": 0
           },
           {
            "bin_end": 84,
            "bin_start": 81.5,
            "count": 0
           },
           {
            "bin_end": 86.5,
            "bin_start": 84,
            "count": 0
           },
           {
            "bin_end": 89,
            "bin_start": 86.5,
            "count": 0
           },
           {
            "bin_end": 91.5,
            "bin_start": 89,
            "count": 0
           },
           {
            "bin_end": 94,
            "bin_start": 91.5,
            "count": 3
           }
          ],
          "max": "94",
          "min": "69",
          "nan_count": 0,
          "unique_count": 4
         }
        },
        {
         "dtype": "int64",
         "name": "_deepnote_index_column"
        }
       ],
       "row_count": 5,
       "rows": [
        {
         "Agrement": 0,
         "Code_postal": 92240,
         "_deepnote_index_column": 0,
         "activite_category": 1,
         "day": 3,
         "day_cos": 0.998666816288476,
         "day_sin": 0.0516196672232537,
         "departement": 92,
         "month": 3,
         "month_cos": 6.123233995736766e-17,
         "month_sin": 1,
         "synthese_eval_encode": 1
        },
        {
         "Agrement": 0,
         "Code_postal": 69500,
         "_deepnote_index_column": 1,
         "activite_category": 58,
         "day": 11,
         "day_cos": 0.9821256058680006,
         "day_sin": 0.1882267098432442,
         "departement": 69,
         "month": 11,
         "month_cos": 0.8660254037844384,
         "month_sin": -0.5000000000000004,
         "synthese_eval_encode": 0
        },
        {
         "Agrement": 0,
         "Code_postal": 92800,
         "_deepnote_index_column": 2,
         "activite_category": 1,
         "day": 2,
         "day_cos": 0.9994074007397048,
         "day_sin": 0.0344216116227457,
         "departement": 92,
         "month": 2,
         "month_cos": 0.5000000000000001,
         "month_sin": 0.8660254037844386,
         "synthese_eval_encode": 0
        },
        {
         "Agrement": 0,
         "Code_postal": 78460,
         "_deepnote_index_column": 3,
         "activite_category": 72,
         "day": 2,
         "day_cos": 0.9994074007397048,
         "day_sin": 0.0344216116227457,
         "departement": 78,
         "month": 2,
         "month_cos": 0.5000000000000001,
         "month_sin": 0.8660254037844386,
         "synthese_eval_encode": 1
        },
        {
         "Agrement": 0,
         "Code_postal": 94290,
         "_deepnote_index_column": 4,
         "activite_category": 1,
         "day": 4,
         "day_cos": 0.9976303053065856,
         "day_sin": 0.0688024268023198,
         "departement": 94,
         "month": 4,
         "month_cos": -0.4999999999999998,
         "month_sin": 0.8660254037844387,
         "synthese_eval_encode": 1
        }
       ]
      },
      "text/html": [
       "<div>\n",
       "<style scoped>\n",
       "    .dataframe tbody tr th:only-of-type {\n",
       "        vertical-align: middle;\n",
       "    }\n",
       "\n",
       "    .dataframe tbody tr th {\n",
       "        vertical-align: top;\n",
       "    }\n",
       "\n",
       "    .dataframe thead th {\n",
       "        text-align: right;\n",
       "    }\n",
       "</style>\n",
       "<table border=\"1\" class=\"dataframe\">\n",
       "  <thead>\n",
       "    <tr style=\"text-align: right;\">\n",
       "      <th></th>\n",
       "      <th>Code_postal</th>\n",
       "      <th>Agrement</th>\n",
       "      <th>synthese_eval_encode</th>\n",
       "      <th>month</th>\n",
       "      <th>month_sin</th>\n",
       "      <th>month_cos</th>\n",
       "      <th>day</th>\n",
       "      <th>day_sin</th>\n",
       "      <th>day_cos</th>\n",
       "      <th>activite_category</th>\n",
       "      <th>departement</th>\n",
       "    </tr>\n",
       "  </thead>\n",
       "  <tbody>\n",
       "    <tr>\n",
       "      <th>0</th>\n",
       "      <td>92240</td>\n",
       "      <td>0</td>\n",
       "      <td>1.0</td>\n",
       "      <td>3</td>\n",
       "      <td>1.000000</td>\n",
       "      <td>6.123234e-17</td>\n",
       "      <td>3</td>\n",
       "      <td>0.051620</td>\n",
       "      <td>0.998667</td>\n",
       "      <td>1</td>\n",
       "      <td>92</td>\n",
       "    </tr>\n",
       "    <tr>\n",
       "      <th>1</th>\n",
       "      <td>69500</td>\n",
       "      <td>0</td>\n",
       "      <td>0.0</td>\n",
       "      <td>11</td>\n",
       "      <td>-0.500000</td>\n",
       "      <td>8.660254e-01</td>\n",
       "      <td>11</td>\n",
       "      <td>0.188227</td>\n",
       "      <td>0.982126</td>\n",
       "      <td>58</td>\n",
       "      <td>69</td>\n",
       "    </tr>\n",
       "    <tr>\n",
       "      <th>2</th>\n",
       "      <td>92800</td>\n",
       "      <td>0</td>\n",
       "      <td>0.0</td>\n",
       "      <td>2</td>\n",
       "      <td>0.866025</td>\n",
       "      <td>5.000000e-01</td>\n",
       "      <td>2</td>\n",
       "      <td>0.034422</td>\n",
       "      <td>0.999407</td>\n",
       "      <td>1</td>\n",
       "      <td>92</td>\n",
       "    </tr>\n",
       "    <tr>\n",
       "      <th>3</th>\n",
       "      <td>78460</td>\n",
       "      <td>0</td>\n",
       "      <td>1.0</td>\n",
       "      <td>2</td>\n",
       "      <td>0.866025</td>\n",
       "      <td>5.000000e-01</td>\n",
       "      <td>2</td>\n",
       "      <td>0.034422</td>\n",
       "      <td>0.999407</td>\n",
       "      <td>72</td>\n",
       "      <td>78</td>\n",
       "    </tr>\n",
       "    <tr>\n",
       "      <th>4</th>\n",
       "      <td>94290</td>\n",
       "      <td>0</td>\n",
       "      <td>1.0</td>\n",
       "      <td>4</td>\n",
       "      <td>0.866025</td>\n",
       "      <td>-5.000000e-01</td>\n",
       "      <td>4</td>\n",
       "      <td>0.068802</td>\n",
       "      <td>0.997630</td>\n",
       "      <td>1</td>\n",
       "      <td>94</td>\n",
       "    </tr>\n",
       "  </tbody>\n",
       "</table>\n",
       "</div>"
      ],
      "text/plain": [
       "   Code_postal  Agrement  synthese_eval_encode  month  month_sin  \\\n",
       "0        92240         0                   1.0      3   1.000000   \n",
       "1        69500         0                   0.0     11  -0.500000   \n",
       "2        92800         0                   0.0      2   0.866025   \n",
       "3        78460         0                   1.0      2   0.866025   \n",
       "4        94290         0                   1.0      4   0.866025   \n",
       "\n",
       "      month_cos  day   day_sin   day_cos  activite_category  departement  \n",
       "0  6.123234e-17    3  0.051620  0.998667                  1           92  \n",
       "1  8.660254e-01   11  0.188227  0.982126                 58           69  \n",
       "2  5.000000e-01    2  0.034422  0.999407                  1           92  \n",
       "3  5.000000e-01    2  0.034422  0.999407                 72           78  \n",
       "4 -5.000000e-01    4  0.068802  0.997630                  1           94  "
      ]
     },
     "execution_count": 34,
     "metadata": {},
     "output_type": "execute_result"
    }
   ],
   "source": [
    "data = df.copy()\n",
    "data = data.drop(['SIRET', 'Numero_inspection', 'Date_inspection'], axis=1)\n",
    "data.head()"
   ]
  },
  {
   "cell_type": "code",
   "execution_count": 35,
   "metadata": {
    "cell_id": "019cbf61-f5ab-4791-9eaf-108e76c63a18",
    "deepnote_cell_type": "code",
    "deepnote_output_heights": [
     232.375
    ],
    "deepnote_to_be_reexecuted": false,
    "execution_millis": 17,
    "execution_start": 1643815873884,
    "source_hash": "fa5b1f0f",
    "tags": []
   },
   "outputs": [],
   "source": [
    "from sklearn.model_selection import train_test_split\n",
    "\n",
    "\n",
    "# Define our Independent(predictor) and Dependent(response) variables.\n",
    "X = data.drop(['synthese_eval_encode'],axis=1)\n",
    "y = data['synthese_eval_encode']\n",
    "\n",
    "# Split our dataset into train and test subsets.\n",
    "X_train, X_test, y_train, y_test = train_test_split(X,y,test_size=0.20,random_state=42)"
   ]
  },
  {
   "cell_type": "code",
   "execution_count": 39,
   "metadata": {
    "cell_id": "3b2d6bd7-44bd-4012-b0e7-4ea89254c486",
    "deepnote_cell_type": "code",
    "deepnote_output_heights": [
     21.1875
    ],
    "deepnote_to_be_reexecuted": false,
    "execution_millis": 118,
    "execution_start": 1643815920509,
    "source_hash": "a83ec43c",
    "tags": []
   },
   "outputs": [
    {
     "data": {
      "text/plain": [
       "0.03917262719835135"
      ]
     },
     "execution_count": 39,
     "metadata": {},
     "output_type": "execute_result"
    }
   ],
   "source": [
    "from sklearn.linear_model import LinearRegression\n",
    "\n",
    "reg = LinearRegression()\n",
    "X_train_fit = reg.fit(X_train, y_train)\n",
    "reg.score(X_train, y_train)"
   ]
  },
  {
   "cell_type": "code",
   "execution_count": null,
   "metadata": {
    "cell_id": "95c63822-2611-4000-9861-1c85a0c883f6",
    "deepnote_cell_type": "code",
    "tags": []
   },
   "outputs": [],
   "source": []
  },
  {
   "cell_type": "markdown",
   "metadata": {
    "created_in_deepnote_cell": true,
    "deepnote_cell_type": "markdown",
    "tags": []
   },
   "source": [
    "<a style='text-decoration:none;line-height:16px;display:flex;color:#5B5B62;padding:10px;justify-content:end;' href='https://deepnote.com?utm_source=created-in-deepnote-cell&projectId=6a1379aa-ea9c-402c-95ca-194460431a68' target=\"_blank\">\n",
    "<img alt='Created in deepnote.com' style='display:inline;max-height:16px;margin:0px;margin-right:7.5px;' src='data:image/svg+xml;base64,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' > </img>\n",
    "Created in <span style='font-weight:600;margin-left:4px;'>Deepnote</span></a>"
   ]
  }
 ],
 "metadata": {
  "deepnote": {
   "is_reactive": false
  },
  "deepnote_execution_queue": [],
  "deepnote_notebook_id": "16d1c43a-94cf-4bde-95d1-e5aff31a9a86",
  "interpreter": {
   "hash": "1a484df6d70b8d91c6f9ebf31d44c3bf4d9bc05a1397fada67a1941ff433caee"
  },
  "kernelspec": {
   "display_name": "Python 3.9.9 64-bit (conda)",
   "language": "python",
   "name": "python3"
  },
  "language_info": {
   "name": "python",
   "version": "3.9.9"
  },
  "orig_nbformat": 2
 },
 "nbformat": 4,
 "nbformat_minor": 2
}
