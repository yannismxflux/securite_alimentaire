{
 "cells": [
  {
   "cell_type": "code",
   "metadata": {
    "tags": [],
    "cell_id": "66adaeeb-2148-4611-b321-959c08bb90b2",
    "deepnote_to_be_reexecuted": false,
    "source_hash": "66a6f8a7",
    "execution_start": 1643812388106,
    "execution_millis": 1,
    "deepnote_cell_type": "code"
   },
   "source": "# Start writing code here...\nimport pandas as pd",
   "execution_count": 2,
   "outputs": []
  },
  {
   "cell_type": "code",
   "metadata": {
    "cell_id": "fefe4078-a01b-4427-8ddc-dbeaaec357b9",
    "tags": [],
    "deepnote_to_be_reexecuted": false,
    "source_hash": "900c7601",
    "execution_start": 1643815827863,
    "execution_millis": 213,
    "deepnote_cell_type": "code"
   },
   "source": "df = pd.read_csv(\"matrice.csv\")\ndf.head()",
   "execution_count": 32,
   "outputs": [
    {
     "output_type": "execute_result",
     "execution_count": 32,
     "data": {
      "application/vnd.deepnote.dataframe.v3+json": {
       "column_count": 14,
       "row_count": 5,
       "columns": [
        {
         "name": "SIRET",
         "dtype": "object",
         "stats": {
          "unique_count": 5,
          "nan_count": 0,
          "categories": [
           {
            "name": "30247464800789",
            "count": 1
           },
           {
            "name": "30112032500024",
            "count": 1
           },
           {
            "name": "3 others",
            "count": 3
           }
          ]
         }
        },
        {
         "name": "Code_postal",
         "dtype": "int64",
         "stats": {
          "unique_count": 5,
          "nan_count": 0,
          "min": "69500",
          "max": "94290",
          "histogram": [
           {
            "bin_start": 69500,
            "bin_end": 71979,
            "count": 1
           },
           {
            "bin_start": 71979,
            "bin_end": 74458,
            "count": 0
           },
           {
            "bin_start": 74458,
            "bin_end": 76937,
            "count": 0
           },
           {
            "bin_start": 76937,
            "bin_end": 79416,
            "count": 1
           },
           {
            "bin_start": 79416,
            "bin_end": 81895,
            "count": 0
           },
           {
            "bin_start": 81895,
            "bin_end": 84374,
            "count": 0
           },
           {
            "bin_start": 84374,
            "bin_end": 86853,
            "count": 0
           },
           {
            "bin_start": 86853,
            "bin_end": 89332,
            "count": 0
           },
           {
            "bin_start": 89332,
            "bin_end": 91811,
            "count": 0
           },
           {
            "bin_start": 91811,
            "bin_end": 94290,
            "count": 3
           }
          ]
         }
        },
        {
         "name": "Numero_inspection",
         "dtype": "object",
         "stats": {
          "unique_count": 5,
          "nan_count": 0,
          "categories": [
           {
            "name": "15914760",
            "count": 1
           },
           {
            "name": "16252422",
            "count": 1
           },
           {
            "name": "3 others",
            "count": 3
           }
          ]
         }
        },
        {
         "name": "Date_inspection",
         "dtype": "object",
         "stats": {
          "unique_count": 5,
          "nan_count": 0,
          "categories": [
           {
            "name": "2021-03-03 00:00:00+00:00",
            "count": 1
           },
           {
            "name": "2021-11-26 00:00:00+00:00",
            "count": 1
           },
           {
            "name": "3 others",
            "count": 3
           }
          ]
         }
        },
        {
         "name": "Agrement",
         "dtype": "int64",
         "stats": {
          "unique_count": 1,
          "nan_count": 0,
          "min": "0",
          "max": "0",
          "histogram": [
           {
            "bin_start": -0.5,
            "bin_end": -0.4,
            "count": 0
           },
           {
            "bin_start": -0.4,
            "bin_end": -0.3,
            "count": 0
           },
           {
            "bin_start": -0.3,
            "bin_end": -0.19999999999999996,
            "count": 0
           },
           {
            "bin_start": -0.19999999999999996,
            "bin_end": -0.09999999999999998,
            "count": 0
           },
           {
            "bin_start": -0.09999999999999998,
            "bin_end": 0,
            "count": 0
           },
           {
            "bin_start": 0,
            "bin_end": 0.10000000000000009,
            "count": 5
           },
           {
            "bin_start": 0.10000000000000009,
            "bin_end": 0.20000000000000007,
            "count": 0
           },
           {
            "bin_start": 0.20000000000000007,
            "bin_end": 0.30000000000000004,
            "count": 0
           },
           {
            "bin_start": 0.30000000000000004,
            "bin_end": 0.4,
            "count": 0
           },
           {
            "bin_start": 0.4,
            "bin_end": 0.5,
            "count": 0
           }
          ]
         }
        },
        {
         "name": "synthese_eval_encode",
         "dtype": "float64",
         "stats": {
          "unique_count": 2,
          "nan_count": 0,
          "min": "0.0",
          "max": "1.0",
          "histogram": [
           {
            "bin_start": 0,
            "bin_end": 0.1,
            "count": 2
           },
           {
            "bin_start": 0.1,
            "bin_end": 0.2,
            "count": 0
           },
           {
            "bin_start": 0.2,
            "bin_end": 0.30000000000000004,
            "count": 0
           },
           {
            "bin_start": 0.30000000000000004,
            "bin_end": 0.4,
            "count": 0
           },
           {
            "bin_start": 0.4,
            "bin_end": 0.5,
            "count": 0
           },
           {
            "bin_start": 0.5,
            "bin_end": 0.6000000000000001,
            "count": 0
           },
           {
            "bin_start": 0.6000000000000001,
            "bin_end": 0.7000000000000001,
            "count": 0
           },
           {
            "bin_start": 0.7000000000000001,
            "bin_end": 0.8,
            "count": 0
           },
           {
            "bin_start": 0.8,
            "bin_end": 0.9,
            "count": 0
           },
           {
            "bin_start": 0.9,
            "bin_end": 1,
            "count": 3
           }
          ]
         }
        },
        {
         "name": "month",
         "dtype": "int64",
         "stats": {
          "unique_count": 4,
          "nan_count": 0,
          "min": "2",
          "max": "11",
          "histogram": [
           {
            "bin_start": 2,
            "bin_end": 2.9,
            "count": 2
           },
           {
            "bin_start": 2.9,
            "bin_end": 3.8,
            "count": 1
           },
           {
            "bin_start": 3.8,
            "bin_end": 4.7,
            "count": 1
           },
           {
            "bin_start": 4.7,
            "bin_end": 5.6,
            "count": 0
           },
           {
            "bin_start": 5.6,
            "bin_end": 6.5,
            "count": 0
           },
           {
            "bin_start": 6.5,
            "bin_end": 7.4,
            "count": 0
           },
           {
            "bin_start": 7.4,
            "bin_end": 8.3,
            "count": 0
           },
           {
            "bin_start": 8.3,
            "bin_end": 9.2,
            "count": 0
           },
           {
            "bin_start": 9.2,
            "bin_end": 10.1,
            "count": 0
           },
           {
            "bin_start": 10.1,
            "bin_end": 11,
            "count": 1
           }
          ]
         }
        },
        {
         "name": "month_sin",
         "dtype": "float64",
         "stats": {
          "unique_count": 4,
          "nan_count": 0,
          "min": "-0.5000000000000004",
          "max": "1.0",
          "histogram": [
           {
            "bin_start": -0.5000000000000004,
            "bin_end": -0.3500000000000004,
            "count": 1
           },
           {
            "bin_start": -0.3500000000000004,
            "bin_end": -0.20000000000000034,
            "count": 0
           },
           {
            "bin_start": -0.20000000000000034,
            "bin_end": -0.050000000000000266,
            "count": 0
           },
           {
            "bin_start": -0.050000000000000266,
            "bin_end": 0.09999999999999976,
            "count": 0
           },
           {
            "bin_start": 0.09999999999999976,
            "bin_end": 0.24999999999999978,
            "count": 0
           },
           {
            "bin_start": 0.24999999999999978,
            "bin_end": 0.3999999999999999,
            "count": 0
           },
           {
            "bin_start": 0.3999999999999999,
            "bin_end": 0.5499999999999998,
            "count": 0
           },
           {
            "bin_start": 0.5499999999999998,
            "bin_end": 0.7,
            "count": 0
           },
           {
            "bin_start": 0.7,
            "bin_end": 0.8500000000000001,
            "count": 0
           },
           {
            "bin_start": 0.8500000000000001,
            "bin_end": 1,
            "count": 4
           }
          ]
         }
        },
        {
         "name": "month_cos",
         "dtype": "float64",
         "stats": {
          "unique_count": 4,
          "nan_count": 0,
          "min": "-0.4999999999999998",
          "max": "0.8660254037844384",
          "histogram": [
           {
            "bin_start": -0.4999999999999998,
            "bin_end": -0.36339745962155595,
            "count": 1
           },
           {
            "bin_start": -0.36339745962155595,
            "bin_end": -0.22679491924311213,
            "count": 0
           },
           {
            "bin_start": -0.22679491924311213,
            "bin_end": -0.0901923788646683,
            "count": 0
           },
           {
            "bin_start": -0.0901923788646683,
            "bin_end": 0.04641016151377553,
            "count": 1
           },
           {
            "bin_start": 0.04641016151377553,
            "bin_end": 0.1830127018922194,
            "count": 0
           },
           {
            "bin_start": 0.1830127018922194,
            "bin_end": 0.3196152422706632,
            "count": 0
           },
           {
            "bin_start": 0.3196152422706632,
            "bin_end": 0.45621778264910695,
            "count": 0
           },
           {
            "bin_start": 0.45621778264910695,
            "bin_end": 0.5928203230275508,
            "count": 2
           },
           {
            "bin_start": 0.5928203230275508,
            "bin_end": 0.7294228634059947,
            "count": 0
           },
           {
            "bin_start": 0.7294228634059947,
            "bin_end": 0.8660254037844384,
            "count": 1
           }
          ]
         }
        },
        {
         "name": "day",
         "dtype": "int64",
         "stats": {
          "unique_count": 4,
          "nan_count": 0,
          "min": "2",
          "max": "11",
          "histogram": [
           {
            "bin_start": 2,
            "bin_end": 2.9,
            "count": 2
           },
           {
            "bin_start": 2.9,
            "bin_end": 3.8,
            "count": 1
           },
           {
            "bin_start": 3.8,
            "bin_end": 4.7,
            "count": 1
           },
           {
            "bin_start": 4.7,
            "bin_end": 5.6,
            "count": 0
           },
           {
            "bin_start": 5.6,
            "bin_end": 6.5,
            "count": 0
           },
           {
            "bin_start": 6.5,
            "bin_end": 7.4,
            "count": 0
           },
           {
            "bin_start": 7.4,
            "bin_end": 8.3,
            "count": 0
           },
           {
            "bin_start": 8.3,
            "bin_end": 9.2,
            "count": 0
           },
           {
            "bin_start": 9.2,
            "bin_end": 10.1,
            "count": 0
           },
           {
            "bin_start": 10.1,
            "bin_end": 11,
            "count": 1
           }
          ]
         }
        },
        {
         "name": "day_sin",
         "dtype": "float64",
         "stats": {
          "unique_count": 4,
          "nan_count": 0,
          "min": "0.0344216116227457",
          "max": "0.1882267098432442",
          "histogram": [
           {
            "bin_start": 0.0344216116227457,
            "bin_end": 0.04980212144479555,
            "count": 2
           },
           {
            "bin_start": 0.04980212144479555,
            "bin_end": 0.0651826312668454,
            "count": 1
           },
           {
            "bin_start": 0.0651826312668454,
            "bin_end": 0.08056314108889526,
            "count": 1
           },
           {
            "bin_start": 0.08056314108889526,
            "bin_end": 0.09594365091094509,
            "count": 0
           },
           {
            "bin_start": 0.09594365091094509,
            "bin_end": 0.11132416073299495,
            "count": 0
           },
           {
            "bin_start": 0.11132416073299495,
            "bin_end": 0.1267046705550448,
            "count": 0
           },
           {
            "bin_start": 0.1267046705550448,
            "bin_end": 0.14208518037709464,
            "count": 0
           },
           {
            "bin_start": 0.14208518037709464,
            "bin_end": 0.1574656901991445,
            "count": 0
           },
           {
            "bin_start": 0.1574656901991445,
            "bin_end": 0.17284620002119436,
            "count": 0
           },
           {
            "bin_start": 0.17284620002119436,
            "bin_end": 0.1882267098432442,
            "count": 1
           }
          ]
         }
        },
        {
         "name": "day_cos",
         "dtype": "float64",
         "stats": {
          "unique_count": 4,
          "nan_count": 0,
          "min": "0.9821256058680006",
          "max": "0.9994074007397048",
          "histogram": [
           {
            "bin_start": 0.9821256058680006,
            "bin_end": 0.983853785355171,
            "count": 1
           },
           {
            "bin_start": 0.983853785355171,
            "bin_end": 0.9855819648423414,
            "count": 0
           },
           {
            "bin_start": 0.9855819648423414,
            "bin_end": 0.9873101443295118,
            "count": 0
           },
           {
            "bin_start": 0.9873101443295118,
            "bin_end": 0.9890383238166822,
            "count": 0
           },
           {
            "bin_start": 0.9890383238166822,
            "bin_end": 0.9907665033038526,
            "count": 0
           },
           {
            "bin_start": 0.9907665033038526,
            "bin_end": 0.9924946827910232,
            "count": 0
           },
           {
            "bin_start": 0.9924946827910232,
            "bin_end": 0.9942228622781936,
            "count": 0
           },
           {
            "bin_start": 0.9942228622781936,
            "bin_end": 0.995951041765364,
            "count": 0
           },
           {
            "bin_start": 0.995951041765364,
            "bin_end": 0.9976792212525344,
            "count": 1
           },
           {
            "bin_start": 0.9976792212525344,
            "bin_end": 0.9994074007397048,
            "count": 3
           }
          ]
         }
        },
        {
         "name": "activite_category",
         "dtype": "int64",
         "stats": {
          "unique_count": 3,
          "nan_count": 0,
          "min": "1",
          "max": "72",
          "histogram": [
           {
            "bin_start": 1,
            "bin_end": 8.1,
            "count": 3
           },
           {
            "bin_start": 8.1,
            "bin_end": 15.2,
            "count": 0
           },
           {
            "bin_start": 15.2,
            "bin_end": 22.299999999999997,
            "count": 0
           },
           {
            "bin_start": 22.299999999999997,
            "bin_end": 29.4,
            "count": 0
           },
           {
            "bin_start": 29.4,
            "bin_end": 36.5,
            "count": 0
           },
           {
            "bin_start": 36.5,
            "bin_end": 43.599999999999994,
            "count": 0
           },
           {
            "bin_start": 43.599999999999994,
            "bin_end": 50.699999999999996,
            "count": 0
           },
           {
            "bin_start": 50.699999999999996,
            "bin_end": 57.8,
            "count": 0
           },
           {
            "bin_start": 57.8,
            "bin_end": 64.9,
            "count": 1
           },
           {
            "bin_start": 64.9,
            "bin_end": 72,
            "count": 1
           }
          ]
         }
        },
        {
         "name": "departement",
         "dtype": "int64",
         "stats": {
          "unique_count": 4,
          "nan_count": 0,
          "min": "69",
          "max": "94",
          "histogram": [
           {
            "bin_start": 69,
            "bin_end": 71.5,
            "count": 1
           },
           {
            "bin_start": 71.5,
            "bin_end": 74,
            "count": 0
           },
           {
            "bin_start": 74,
            "bin_end": 76.5,
            "count": 0
           },
           {
            "bin_start": 76.5,
            "bin_end": 79,
            "count": 1
           },
           {
            "bin_start": 79,
            "bin_end": 81.5,
            "count": 0
           },
           {
            "bin_start": 81.5,
            "bin_end": 84,
            "count": 0
           },
           {
            "bin_start": 84,
            "bin_end": 86.5,
            "count": 0
           },
           {
            "bin_start": 86.5,
            "bin_end": 89,
            "count": 0
           },
           {
            "bin_start": 89,
            "bin_end": 91.5,
            "count": 0
           },
           {
            "bin_start": 91.5,
            "bin_end": 94,
            "count": 3
           }
          ]
         }
        },
        {
         "name": "_deepnote_index_column",
         "dtype": "int64"
        }
       ],
       "rows": [
        {
         "SIRET": "30247464800789",
         "Code_postal": 92240,
         "Numero_inspection": "15914760",
         "Date_inspection": "2021-03-03 00:00:00+00:00",
         "Agrement": 0,
         "synthese_eval_encode": 1,
         "month": 3,
         "month_sin": 1,
         "month_cos": 6.123233995736766e-17,
         "day": 3,
         "day_sin": 0.0516196672232537,
         "day_cos": 0.998666816288476,
         "activite_category": 1,
         "departement": 92,
         "_deepnote_index_column": 0
        },
        {
         "SIRET": "30112032500024",
         "Code_postal": 69500,
         "Numero_inspection": "16252422",
         "Date_inspection": "2021-11-26 00:00:00+00:00",
         "Agrement": 0,
         "synthese_eval_encode": 0,
         "month": 11,
         "month_sin": -0.5000000000000004,
         "month_cos": 0.8660254037844384,
         "day": 11,
         "day_sin": 0.1882267098432442,
         "day_cos": 0.9821256058680006,
         "activite_category": 58,
         "departement": 69,
         "_deepnote_index_column": 1
        },
        {
         "SIRET": "30247464801894",
         "Code_postal": 92800,
         "Numero_inspection": "15903092",
         "Date_inspection": "2021-02-22 00:00:00+00:00",
         "Agrement": 0,
         "synthese_eval_encode": 0,
         "month": 2,
         "month_sin": 0.8660254037844386,
         "month_cos": 0.5000000000000001,
         "day": 2,
         "day_sin": 0.0344216116227457,
         "day_cos": 0.9994074007397048,
         "activite_category": 1,
         "departement": 92,
         "_deepnote_index_column": 2
        },
        {
         "SIRET": "30890741900011",
         "Code_postal": 78460,
         "Numero_inspection": "15901554",
         "Date_inspection": "2021-02-19 00:00:00+00:00",
         "Agrement": 0,
         "synthese_eval_encode": 1,
         "month": 2,
         "month_sin": 0.8660254037844386,
         "month_cos": 0.5000000000000001,
         "day": 2,
         "day_sin": 0.0344216116227457,
         "day_cos": 0.9994074007397048,
         "activite_category": 72,
         "departement": 78,
         "_deepnote_index_column": 3
        },
        {
         "SIRET": "30668909200022",
         "Code_postal": 94290,
         "Numero_inspection": "15968279",
         "Date_inspection": "2021-04-14 00:00:00+00:00",
         "Agrement": 0,
         "synthese_eval_encode": 1,
         "month": 4,
         "month_sin": 0.8660254037844387,
         "month_cos": -0.4999999999999998,
         "day": 4,
         "day_sin": 0.0688024268023198,
         "day_cos": 0.9976303053065856,
         "activite_category": 1,
         "departement": 94,
         "_deepnote_index_column": 4
        }
       ]
      },
      "text/plain": "            SIRET  Code_postal Numero_inspection            Date_inspection  \\\n0  30247464800789        92240          15914760  2021-03-03 00:00:00+00:00   \n1  30112032500024        69500          16252422  2021-11-26 00:00:00+00:00   \n2  30247464801894        92800          15903092  2021-02-22 00:00:00+00:00   \n3  30890741900011        78460          15901554  2021-02-19 00:00:00+00:00   \n4  30668909200022        94290          15968279  2021-04-14 00:00:00+00:00   \n\n   Agrement  synthese_eval_encode  month  month_sin     month_cos  day  \\\n0         0                   1.0      3   1.000000  6.123234e-17    3   \n1         0                   0.0     11  -0.500000  8.660254e-01   11   \n2         0                   0.0      2   0.866025  5.000000e-01    2   \n3         0                   1.0      2   0.866025  5.000000e-01    2   \n4         0                   1.0      4   0.866025 -5.000000e-01    4   \n\n    day_sin   day_cos  activite_category  departement  \n0  0.051620  0.998667                  1           92  \n1  0.188227  0.982126                 58           69  \n2  0.034422  0.999407                  1           92  \n3  0.034422  0.999407                 72           78  \n4  0.068802  0.997630                  1           94  ",
      "text/html": "<div>\n<style scoped>\n    .dataframe tbody tr th:only-of-type {\n        vertical-align: middle;\n    }\n\n    .dataframe tbody tr th {\n        vertical-align: top;\n    }\n\n    .dataframe thead th {\n        text-align: right;\n    }\n</style>\n<table border=\"1\" class=\"dataframe\">\n  <thead>\n    <tr style=\"text-align: right;\">\n      <th></th>\n      <th>SIRET</th>\n      <th>Code_postal</th>\n      <th>Numero_inspection</th>\n      <th>Date_inspection</th>\n      <th>Agrement</th>\n      <th>synthese_eval_encode</th>\n      <th>month</th>\n      <th>month_sin</th>\n      <th>month_cos</th>\n      <th>day</th>\n      <th>day_sin</th>\n      <th>day_cos</th>\n      <th>activite_category</th>\n      <th>departement</th>\n    </tr>\n  </thead>\n  <tbody>\n    <tr>\n      <th>0</th>\n      <td>30247464800789</td>\n      <td>92240</td>\n      <td>15914760</td>\n      <td>2021-03-03 00:00:00+00:00</td>\n      <td>0</td>\n      <td>1.0</td>\n      <td>3</td>\n      <td>1.000000</td>\n      <td>6.123234e-17</td>\n      <td>3</td>\n      <td>0.051620</td>\n      <td>0.998667</td>\n      <td>1</td>\n      <td>92</td>\n    </tr>\n    <tr>\n      <th>1</th>\n      <td>30112032500024</td>\n      <td>69500</td>\n      <td>16252422</td>\n      <td>2021-11-26 00:00:00+00:00</td>\n      <td>0</td>\n      <td>0.0</td>\n      <td>11</td>\n      <td>-0.500000</td>\n      <td>8.660254e-01</td>\n      <td>11</td>\n      <td>0.188227</td>\n      <td>0.982126</td>\n      <td>58</td>\n      <td>69</td>\n    </tr>\n    <tr>\n      <th>2</th>\n      <td>30247464801894</td>\n      <td>92800</td>\n      <td>15903092</td>\n      <td>2021-02-22 00:00:00+00:00</td>\n      <td>0</td>\n      <td>0.0</td>\n      <td>2</td>\n      <td>0.866025</td>\n      <td>5.000000e-01</td>\n      <td>2</td>\n      <td>0.034422</td>\n      <td>0.999407</td>\n      <td>1</td>\n      <td>92</td>\n    </tr>\n    <tr>\n      <th>3</th>\n      <td>30890741900011</td>\n      <td>78460</td>\n      <td>15901554</td>\n      <td>2021-02-19 00:00:00+00:00</td>\n      <td>0</td>\n      <td>1.0</td>\n      <td>2</td>\n      <td>0.866025</td>\n      <td>5.000000e-01</td>\n      <td>2</td>\n      <td>0.034422</td>\n      <td>0.999407</td>\n      <td>72</td>\n      <td>78</td>\n    </tr>\n    <tr>\n      <th>4</th>\n      <td>30668909200022</td>\n      <td>94290</td>\n      <td>15968279</td>\n      <td>2021-04-14 00:00:00+00:00</td>\n      <td>0</td>\n      <td>1.0</td>\n      <td>4</td>\n      <td>0.866025</td>\n      <td>-5.000000e-01</td>\n      <td>4</td>\n      <td>0.068802</td>\n      <td>0.997630</td>\n      <td>1</td>\n      <td>94</td>\n    </tr>\n  </tbody>\n</table>\n</div>"
     },
     "metadata": {}
    }
   ]
  },
  {
   "cell_type": "code",
   "source": "for i in df:\n    try:\n        df[i] = df[i].astype(int)\n    except:\n        print(i)",
   "metadata": {
    "cell_id": "8c16094b-cf46-4983-bd3a-0b8d61f3ccf8",
    "tags": [],
    "deepnote_to_be_reexecuted": false,
    "source_hash": "1f23fa73",
    "execution_start": 1643815807191,
    "execution_millis": 21,
    "deepnote_cell_type": "code"
   },
   "outputs": [
    {
     "name": "stdout",
     "text": "Numero_inspection\nDate_inspection\n",
     "output_type": "stream"
    }
   ],
   "execution_count": 31
  },
  {
   "cell_type": "code",
   "source": "data = df.copy()\ndata = data.drop(['SIRET', 'Numero_inspection', 'Date_inspection'], axis=1)\ndata.head()",
   "metadata": {
    "cell_id": "411de7a3-2454-41b8-aa83-e8226e664108",
    "tags": [],
    "deepnote_to_be_reexecuted": false,
    "source_hash": "627b9bc9",
    "execution_start": 1643815865943,
    "execution_millis": 141,
    "deepnote_cell_type": "code"
   },
   "outputs": [
    {
     "output_type": "execute_result",
     "execution_count": 34,
     "data": {
      "application/vnd.deepnote.dataframe.v3+json": {
       "column_count": 11,
       "row_count": 5,
       "columns": [
        {
         "name": "Code_postal",
         "dtype": "int64",
         "stats": {
          "unique_count": 5,
          "nan_count": 0,
          "min": "69500",
          "max": "94290",
          "histogram": [
           {
            "bin_start": 69500,
            "bin_end": 71979,
            "count": 1
           },
           {
            "bin_start": 71979,
            "bin_end": 74458,
            "count": 0
           },
           {
            "bin_start": 74458,
            "bin_end": 76937,
            "count": 0
           },
           {
            "bin_start": 76937,
            "bin_end": 79416,
            "count": 1
           },
           {
            "bin_start": 79416,
            "bin_end": 81895,
            "count": 0
           },
           {
            "bin_start": 81895,
            "bin_end": 84374,
            "count": 0
           },
           {
            "bin_start": 84374,
            "bin_end": 86853,
            "count": 0
           },
           {
            "bin_start": 86853,
            "bin_end": 89332,
            "count": 0
           },
           {
            "bin_start": 89332,
            "bin_end": 91811,
            "count": 0
           },
           {
            "bin_start": 91811,
            "bin_end": 94290,
            "count": 3
           }
          ]
         }
        },
        {
         "name": "Agrement",
         "dtype": "int64",
         "stats": {
          "unique_count": 1,
          "nan_count": 0,
          "min": "0",
          "max": "0",
          "histogram": [
           {
            "bin_start": -0.5,
            "bin_end": -0.4,
            "count": 0
           },
           {
            "bin_start": -0.4,
            "bin_end": -0.3,
            "count": 0
           },
           {
            "bin_start": -0.3,
            "bin_end": -0.19999999999999996,
            "count": 0
           },
           {
            "bin_start": -0.19999999999999996,
            "bin_end": -0.09999999999999998,
            "count": 0
           },
           {
            "bin_start": -0.09999999999999998,
            "bin_end": 0,
            "count": 0
           },
           {
            "bin_start": 0,
            "bin_end": 0.10000000000000009,
            "count": 5
           },
           {
            "bin_start": 0.10000000000000009,
            "bin_end": 0.20000000000000007,
            "count": 0
           },
           {
            "bin_start": 0.20000000000000007,
            "bin_end": 0.30000000000000004,
            "count": 0
           },
           {
            "bin_start": 0.30000000000000004,
            "bin_end": 0.4,
            "count": 0
           },
           {
            "bin_start": 0.4,
            "bin_end": 0.5,
            "count": 0
           }
          ]
         }
        },
        {
         "name": "synthese_eval_encode",
         "dtype": "float64",
         "stats": {
          "unique_count": 2,
          "nan_count": 0,
          "min": "0.0",
          "max": "1.0",
          "histogram": [
           {
            "bin_start": 0,
            "bin_end": 0.1,
            "count": 2
           },
           {
            "bin_start": 0.1,
            "bin_end": 0.2,
            "count": 0
           },
           {
            "bin_start": 0.2,
            "bin_end": 0.30000000000000004,
            "count": 0
           },
           {
            "bin_start": 0.30000000000000004,
            "bin_end": 0.4,
            "count": 0
           },
           {
            "bin_start": 0.4,
            "bin_end": 0.5,
            "count": 0
           },
           {
            "bin_start": 0.5,
            "bin_end": 0.6000000000000001,
            "count": 0
           },
           {
            "bin_start": 0.6000000000000001,
            "bin_end": 0.7000000000000001,
            "count": 0
           },
           {
            "bin_start": 0.7000000000000001,
            "bin_end": 0.8,
            "count": 0
           },
           {
            "bin_start": 0.8,
            "bin_end": 0.9,
            "count": 0
           },
           {
            "bin_start": 0.9,
            "bin_end": 1,
            "count": 3
           }
          ]
         }
        },
        {
         "name": "month",
         "dtype": "int64",
         "stats": {
          "unique_count": 4,
          "nan_count": 0,
          "min": "2",
          "max": "11",
          "histogram": [
           {
            "bin_start": 2,
            "bin_end": 2.9,
            "count": 2
           },
           {
            "bin_start": 2.9,
            "bin_end": 3.8,
            "count": 1
           },
           {
            "bin_start": 3.8,
            "bin_end": 4.7,
            "count": 1
           },
           {
            "bin_start": 4.7,
            "bin_end": 5.6,
            "count": 0
           },
           {
            "bin_start": 5.6,
            "bin_end": 6.5,
            "count": 0
           },
           {
            "bin_start": 6.5,
            "bin_end": 7.4,
            "count": 0
           },
           {
            "bin_start": 7.4,
            "bin_end": 8.3,
            "count": 0
           },
           {
            "bin_start": 8.3,
            "bin_end": 9.2,
            "count": 0
           },
           {
            "bin_start": 9.2,
            "bin_end": 10.1,
            "count": 0
           },
           {
            "bin_start": 10.1,
            "bin_end": 11,
            "count": 1
           }
          ]
         }
        },
        {
         "name": "month_sin",
         "dtype": "float64",
         "stats": {
          "unique_count": 4,
          "nan_count": 0,
          "min": "-0.5000000000000004",
          "max": "1.0",
          "histogram": [
           {
            "bin_start": -0.5000000000000004,
            "bin_end": -0.3500000000000004,
            "count": 1
           },
           {
            "bin_start": -0.3500000000000004,
            "bin_end": -0.20000000000000034,
            "count": 0
           },
           {
            "bin_start": -0.20000000000000034,
            "bin_end": -0.050000000000000266,
            "count": 0
           },
           {
            "bin_start": -0.050000000000000266,
            "bin_end": 0.09999999999999976,
            "count": 0
           },
           {
            "bin_start": 0.09999999999999976,
            "bin_end": 0.24999999999999978,
            "count": 0
           },
           {
            "bin_start": 0.24999999999999978,
            "bin_end": 0.3999999999999999,
            "count": 0
           },
           {
            "bin_start": 0.3999999999999999,
            "bin_end": 0.5499999999999998,
            "count": 0
           },
           {
            "bin_start": 0.5499999999999998,
            "bin_end": 0.7,
            "count": 0
           },
           {
            "bin_start": 0.7,
            "bin_end": 0.8500000000000001,
            "count": 0
           },
           {
            "bin_start": 0.8500000000000001,
            "bin_end": 1,
            "count": 4
           }
          ]
         }
        },
        {
         "name": "month_cos",
         "dtype": "float64",
         "stats": {
          "unique_count": 4,
          "nan_count": 0,
          "min": "-0.4999999999999998",
          "max": "0.8660254037844384",
          "histogram": [
           {
            "bin_start": -0.4999999999999998,
            "bin_end": -0.36339745962155595,
            "count": 1
           },
           {
            "bin_start": -0.36339745962155595,
            "bin_end": -0.22679491924311213,
            "count": 0
           },
           {
            "bin_start": -0.22679491924311213,
            "bin_end": -0.0901923788646683,
            "count": 0
           },
           {
            "bin_start": -0.0901923788646683,
            "bin_end": 0.04641016151377553,
            "count": 1
           },
           {
            "bin_start": 0.04641016151377553,
            "bin_end": 0.1830127018922194,
            "count": 0
           },
           {
            "bin_start": 0.1830127018922194,
            "bin_end": 0.3196152422706632,
            "count": 0
           },
           {
            "bin_start": 0.3196152422706632,
            "bin_end": 0.45621778264910695,
            "count": 0
           },
           {
            "bin_start": 0.45621778264910695,
            "bin_end": 0.5928203230275508,
            "count": 2
           },
           {
            "bin_start": 0.5928203230275508,
            "bin_end": 0.7294228634059947,
            "count": 0
           },
           {
            "bin_start": 0.7294228634059947,
            "bin_end": 0.8660254037844384,
            "count": 1
           }
          ]
         }
        },
        {
         "name": "day",
         "dtype": "int64",
         "stats": {
          "unique_count": 4,
          "nan_count": 0,
          "min": "2",
          "max": "11",
          "histogram": [
           {
            "bin_start": 2,
            "bin_end": 2.9,
            "count": 2
           },
           {
            "bin_start": 2.9,
            "bin_end": 3.8,
            "count": 1
           },
           {
            "bin_start": 3.8,
            "bin_end": 4.7,
            "count": 1
           },
           {
            "bin_start": 4.7,
            "bin_end": 5.6,
            "count": 0
           },
           {
            "bin_start": 5.6,
            "bin_end": 6.5,
            "count": 0
           },
           {
            "bin_start": 6.5,
            "bin_end": 7.4,
            "count": 0
           },
           {
            "bin_start": 7.4,
            "bin_end": 8.3,
            "count": 0
           },
           {
            "bin_start": 8.3,
            "bin_end": 9.2,
            "count": 0
           },
           {
            "bin_start": 9.2,
            "bin_end": 10.1,
            "count": 0
           },
           {
            "bin_start": 10.1,
            "bin_end": 11,
            "count": 1
           }
          ]
         }
        },
        {
         "name": "day_sin",
         "dtype": "float64",
         "stats": {
          "unique_count": 4,
          "nan_count": 0,
          "min": "0.0344216116227457",
          "max": "0.1882267098432442",
          "histogram": [
           {
            "bin_start": 0.0344216116227457,
            "bin_end": 0.04980212144479555,
            "count": 2
           },
           {
            "bin_start": 0.04980212144479555,
            "bin_end": 0.0651826312668454,
            "count": 1
           },
           {
            "bin_start": 0.0651826312668454,
            "bin_end": 0.08056314108889526,
            "count": 1
           },
           {
            "bin_start": 0.08056314108889526,
            "bin_end": 0.09594365091094509,
            "count": 0
           },
           {
            "bin_start": 0.09594365091094509,
            "bin_end": 0.11132416073299495,
            "count": 0
           },
           {
            "bin_start": 0.11132416073299495,
            "bin_end": 0.1267046705550448,
            "count": 0
           },
           {
            "bin_start": 0.1267046705550448,
            "bin_end": 0.14208518037709464,
            "count": 0
           },
           {
            "bin_start": 0.14208518037709464,
            "bin_end": 0.1574656901991445,
            "count": 0
           },
           {
            "bin_start": 0.1574656901991445,
            "bin_end": 0.17284620002119436,
            "count": 0
           },
           {
            "bin_start": 0.17284620002119436,
            "bin_end": 0.1882267098432442,
            "count": 1
           }
          ]
         }
        },
        {
         "name": "day_cos",
         "dtype": "float64",
         "stats": {
          "unique_count": 4,
          "nan_count": 0,
          "min": "0.9821256058680006",
          "max": "0.9994074007397048",
          "histogram": [
           {
            "bin_start": 0.9821256058680006,
            "bin_end": 0.983853785355171,
            "count": 1
           },
           {
            "bin_start": 0.983853785355171,
            "bin_end": 0.9855819648423414,
            "count": 0
           },
           {
            "bin_start": 0.9855819648423414,
            "bin_end": 0.9873101443295118,
            "count": 0
           },
           {
            "bin_start": 0.9873101443295118,
            "bin_end": 0.9890383238166822,
            "count": 0
           },
           {
            "bin_start": 0.9890383238166822,
            "bin_end": 0.9907665033038526,
            "count": 0
           },
           {
            "bin_start": 0.9907665033038526,
            "bin_end": 0.9924946827910232,
            "count": 0
           },
           {
            "bin_start": 0.9924946827910232,
            "bin_end": 0.9942228622781936,
            "count": 0
           },
           {
            "bin_start": 0.9942228622781936,
            "bin_end": 0.995951041765364,
            "count": 0
           },
           {
            "bin_start": 0.995951041765364,
            "bin_end": 0.9976792212525344,
            "count": 1
           },
           {
            "bin_start": 0.9976792212525344,
            "bin_end": 0.9994074007397048,
            "count": 3
           }
          ]
         }
        },
        {
         "name": "activite_category",
         "dtype": "int64",
         "stats": {
          "unique_count": 3,
          "nan_count": 0,
          "min": "1",
          "max": "72",
          "histogram": [
           {
            "bin_start": 1,
            "bin_end": 8.1,
            "count": 3
           },
           {
            "bin_start": 8.1,
            "bin_end": 15.2,
            "count": 0
           },
           {
            "bin_start": 15.2,
            "bin_end": 22.299999999999997,
            "count": 0
           },
           {
            "bin_start": 22.299999999999997,
            "bin_end": 29.4,
            "count": 0
           },
           {
            "bin_start": 29.4,
            "bin_end": 36.5,
            "count": 0
           },
           {
            "bin_start": 36.5,
            "bin_end": 43.599999999999994,
            "count": 0
           },
           {
            "bin_start": 43.599999999999994,
            "bin_end": 50.699999999999996,
            "count": 0
           },
           {
            "bin_start": 50.699999999999996,
            "bin_end": 57.8,
            "count": 0
           },
           {
            "bin_start": 57.8,
            "bin_end": 64.9,
            "count": 1
           },
           {
            "bin_start": 64.9,
            "bin_end": 72,
            "count": 1
           }
          ]
         }
        },
        {
         "name": "departement",
         "dtype": "int64",
         "stats": {
          "unique_count": 4,
          "nan_count": 0,
          "min": "69",
          "max": "94",
          "histogram": [
           {
            "bin_start": 69,
            "bin_end": 71.5,
            "count": 1
           },
           {
            "bin_start": 71.5,
            "bin_end": 74,
            "count": 0
           },
           {
            "bin_start": 74,
            "bin_end": 76.5,
            "count": 0
           },
           {
            "bin_start": 76.5,
            "bin_end": 79,
            "count": 1
           },
           {
            "bin_start": 79,
            "bin_end": 81.5,
            "count": 0
           },
           {
            "bin_start": 81.5,
            "bin_end": 84,
            "count": 0
           },
           {
            "bin_start": 84,
            "bin_end": 86.5,
            "count": 0
           },
           {
            "bin_start": 86.5,
            "bin_end": 89,
            "count": 0
           },
           {
            "bin_start": 89,
            "bin_end": 91.5,
            "count": 0
           },
           {
            "bin_start": 91.5,
            "bin_end": 94,
            "count": 3
           }
          ]
         }
        },
        {
         "name": "_deepnote_index_column",
         "dtype": "int64"
        }
       ],
       "rows": [
        {
         "Code_postal": 92240,
         "Agrement": 0,
         "synthese_eval_encode": 1,
         "month": 3,
         "month_sin": 1,
         "month_cos": 6.123233995736766e-17,
         "day": 3,
         "day_sin": 0.0516196672232537,
         "day_cos": 0.998666816288476,
         "activite_category": 1,
         "departement": 92,
         "_deepnote_index_column": 0
        },
        {
         "Code_postal": 69500,
         "Agrement": 0,
         "synthese_eval_encode": 0,
         "month": 11,
         "month_sin": -0.5000000000000004,
         "month_cos": 0.8660254037844384,
         "day": 11,
         "day_sin": 0.1882267098432442,
         "day_cos": 0.9821256058680006,
         "activite_category": 58,
         "departement": 69,
         "_deepnote_index_column": 1
        },
        {
         "Code_postal": 92800,
         "Agrement": 0,
         "synthese_eval_encode": 0,
         "month": 2,
         "month_sin": 0.8660254037844386,
         "month_cos": 0.5000000000000001,
         "day": 2,
         "day_sin": 0.0344216116227457,
         "day_cos": 0.9994074007397048,
         "activite_category": 1,
         "departement": 92,
         "_deepnote_index_column": 2
        },
        {
         "Code_postal": 78460,
         "Agrement": 0,
         "synthese_eval_encode": 1,
         "month": 2,
         "month_sin": 0.8660254037844386,
         "month_cos": 0.5000000000000001,
         "day": 2,
         "day_sin": 0.0344216116227457,
         "day_cos": 0.9994074007397048,
         "activite_category": 72,
         "departement": 78,
         "_deepnote_index_column": 3
        },
        {
         "Code_postal": 94290,
         "Agrement": 0,
         "synthese_eval_encode": 1,
         "month": 4,
         "month_sin": 0.8660254037844387,
         "month_cos": -0.4999999999999998,
         "day": 4,
         "day_sin": 0.0688024268023198,
         "day_cos": 0.9976303053065856,
         "activite_category": 1,
         "departement": 94,
         "_deepnote_index_column": 4
        }
       ]
      },
      "text/plain": "   Code_postal  Agrement  synthese_eval_encode  month  month_sin  \\\n0        92240         0                   1.0      3   1.000000   \n1        69500         0                   0.0     11  -0.500000   \n2        92800         0                   0.0      2   0.866025   \n3        78460         0                   1.0      2   0.866025   \n4        94290         0                   1.0      4   0.866025   \n\n      month_cos  day   day_sin   day_cos  activite_category  departement  \n0  6.123234e-17    3  0.051620  0.998667                  1           92  \n1  8.660254e-01   11  0.188227  0.982126                 58           69  \n2  5.000000e-01    2  0.034422  0.999407                  1           92  \n3  5.000000e-01    2  0.034422  0.999407                 72           78  \n4 -5.000000e-01    4  0.068802  0.997630                  1           94  ",
      "text/html": "<div>\n<style scoped>\n    .dataframe tbody tr th:only-of-type {\n        vertical-align: middle;\n    }\n\n    .dataframe tbody tr th {\n        vertical-align: top;\n    }\n\n    .dataframe thead th {\n        text-align: right;\n    }\n</style>\n<table border=\"1\" class=\"dataframe\">\n  <thead>\n    <tr style=\"text-align: right;\">\n      <th></th>\n      <th>Code_postal</th>\n      <th>Agrement</th>\n      <th>synthese_eval_encode</th>\n      <th>month</th>\n      <th>month_sin</th>\n      <th>month_cos</th>\n      <th>day</th>\n      <th>day_sin</th>\n      <th>day_cos</th>\n      <th>activite_category</th>\n      <th>departement</th>\n    </tr>\n  </thead>\n  <tbody>\n    <tr>\n      <th>0</th>\n      <td>92240</td>\n      <td>0</td>\n      <td>1.0</td>\n      <td>3</td>\n      <td>1.000000</td>\n      <td>6.123234e-17</td>\n      <td>3</td>\n      <td>0.051620</td>\n      <td>0.998667</td>\n      <td>1</td>\n      <td>92</td>\n    </tr>\n    <tr>\n      <th>1</th>\n      <td>69500</td>\n      <td>0</td>\n      <td>0.0</td>\n      <td>11</td>\n      <td>-0.500000</td>\n      <td>8.660254e-01</td>\n      <td>11</td>\n      <td>0.188227</td>\n      <td>0.982126</td>\n      <td>58</td>\n      <td>69</td>\n    </tr>\n    <tr>\n      <th>2</th>\n      <td>92800</td>\n      <td>0</td>\n      <td>0.0</td>\n      <td>2</td>\n      <td>0.866025</td>\n      <td>5.000000e-01</td>\n      <td>2</td>\n      <td>0.034422</td>\n      <td>0.999407</td>\n      <td>1</td>\n      <td>92</td>\n    </tr>\n    <tr>\n      <th>3</th>\n      <td>78460</td>\n      <td>0</td>\n      <td>1.0</td>\n      <td>2</td>\n      <td>0.866025</td>\n      <td>5.000000e-01</td>\n      <td>2</td>\n      <td>0.034422</td>\n      <td>0.999407</td>\n      <td>72</td>\n      <td>78</td>\n    </tr>\n    <tr>\n      <th>4</th>\n      <td>94290</td>\n      <td>0</td>\n      <td>1.0</td>\n      <td>4</td>\n      <td>0.866025</td>\n      <td>-5.000000e-01</td>\n      <td>4</td>\n      <td>0.068802</td>\n      <td>0.997630</td>\n      <td>1</td>\n      <td>94</td>\n    </tr>\n  </tbody>\n</table>\n</div>"
     },
     "metadata": {}
    }
   ],
   "execution_count": 34
  },
  {
   "cell_type": "code",
   "metadata": {
    "cell_id": "019cbf61-f5ab-4791-9eaf-108e76c63a18",
    "tags": [],
    "deepnote_to_be_reexecuted": false,
    "source_hash": "fa5b1f0f",
    "execution_start": 1643815873884,
    "execution_millis": 17,
    "deepnote_output_heights": [
     232.375
    ],
    "deepnote_cell_type": "code"
   },
   "source": "from sklearn.model_selection import train_test_split\n\n\n# Define our Independent(predictor) and Dependent(response) variables.\nX = data.drop(['synthese_eval_encode'],axis=1)\ny = data['synthese_eval_encode']\n\n# Split our dataset into train and test subsets.\nX_train, X_test, y_train, y_test = train_test_split(X,y,test_size=0.20,random_state=42)",
   "execution_count": 35,
   "outputs": []
  },
  {
   "cell_type": "code",
   "source": "from sklearn.linear_model import LinearRegression\n\nreg = LinearRegression()\nX_train_fit = reg.fit(X_train, y_train)\nreg.score(X_train, y_train)",
   "metadata": {
    "cell_id": "3b2d6bd7-44bd-4012-b0e7-4ea89254c486",
    "tags": [],
    "deepnote_to_be_reexecuted": false,
    "source_hash": "a83ec43c",
    "execution_start": 1643815920509,
    "execution_millis": 118,
    "deepnote_output_heights": [
     21.1875
    ],
    "deepnote_cell_type": "code"
   },
   "outputs": [
    {
     "output_type": "execute_result",
     "execution_count": 39,
     "data": {
      "text/plain": "0.03917262719835135"
     },
     "metadata": {}
    }
   ],
   "execution_count": 39
  },
  {
   "cell_type": "code",
   "source": "",
   "metadata": {
    "cell_id": "95c63822-2611-4000-9861-1c85a0c883f6",
    "tags": [],
    "deepnote_cell_type": "code"
   },
   "outputs": [],
   "execution_count": null
  },
  {
   "cell_type": "markdown",
   "source": "<a style='text-decoration:none;line-height:16px;display:flex;color:#5B5B62;padding:10px;justify-content:end;' href='https://deepnote.com?utm_source=created-in-deepnote-cell&projectId=6a1379aa-ea9c-402c-95ca-194460431a68' target=\"_blank\">\n<img alt='Created in deepnote.com' style='display:inline;max-height:16px;margin:0px;margin-right:7.5px;' src='data:image/svg+xml;base64,PD94bWwgdmVyc2lvbj0iMS4wIiBlbmNvZGluZz0iVVRGLTgiPz4KPHN2ZyB3aWR0aD0iODBweCIgaGVpZ2h0PSI4MHB4IiB2aWV3Qm94PSIwIDAgODAgODAiIHZlcnNpb249IjEuMSIgeG1sbnM9Imh0dHA6Ly93d3cudzMub3JnLzIwMDAvc3ZnIiB4bWxuczp4bGluaz0iaHR0cDovL3d3dy53My5vcmcvMTk5OS94bGluayI+CiAgICA8IS0tIEdlbmVyYXRvcjogU2tldGNoIDU0LjEgKDc2NDkwKSAtIGh0dHBzOi8vc2tldGNoYXBwLmNvbSAtLT4KICAgIDx0aXRsZT5Hcm91cCAzPC90aXRsZT4KICAgIDxkZXNjPkNyZWF0ZWQgd2l0aCBTa2V0Y2guPC9kZXNjPgogICAgPGcgaWQ9IkxhbmRpbmciIHN0cm9rZT0ibm9uZSIgc3Ryb2tlLXdpZHRoPSIxIiBmaWxsPSJub25lIiBmaWxsLXJ1bGU9ImV2ZW5vZGQiPgogICAgICAgIDxnIGlkPSJBcnRib2FyZCIgdHJhbnNmb3JtPSJ0cmFuc2xhdGUoLTEyMzUuMDAwMDAwLCAtNzkuMDAwMDAwKSI+CiAgICAgICAgICAgIDxnIGlkPSJHcm91cC0zIiB0cmFuc2Zvcm09InRyYW5zbGF0ZSgxMjM1LjAwMDAwMCwgNzkuMDAwMDAwKSI+CiAgICAgICAgICAgICAgICA8cG9seWdvbiBpZD0iUGF0aC0yMCIgZmlsbD0iIzAyNjVCNCIgcG9pbnRzPSIyLjM3NjIzNzYyIDgwIDM4LjA0NzY2NjcgODAgNTcuODIxNzgyMiA3My44MDU3NTkyIDU3LjgyMTc4MjIgMzIuNzU5MjczOSAzOS4xNDAyMjc4IDMxLjY4MzE2ODMiPjwvcG9seWdvbj4KICAgICAgICAgICAgICAgIDxwYXRoIGQ9Ik0zNS4wMDc3MTgsODAgQzQyLjkwNjIwMDcsNzYuNDU0OTM1OCA0Ny41NjQ5MTY3LDcxLjU0MjI2NzEgNDguOTgzODY2LDY1LjI2MTk5MzkgQzUxLjExMjI4OTksNTUuODQxNTg0MiA0MS42NzcxNzk1LDQ5LjIxMjIyODQgMjUuNjIzOTg0Niw0OS4yMTIyMjg0IEMyNS40ODQ5Mjg5LDQ5LjEyNjg0NDggMjkuODI2MTI5Niw0My4yODM4MjQ4IDM4LjY0NzU4NjksMzEuNjgzMTY4MyBMNzIuODcxMjg3MSwzMi41NTQ0MjUgTDY1LjI4MDk3Myw2Ny42NzYzNDIxIEw1MS4xMTIyODk5LDc3LjM3NjE0NCBMMzUuMDA3NzE4LDgwIFoiIGlkPSJQYXRoLTIyIiBmaWxsPSIjMDAyODY4Ij48L3BhdGg+CiAgICAgICAgICAgICAgICA8cGF0aCBkPSJNMCwzNy43MzA0NDA1IEwyNy4xMTQ1MzcsMC4yNTcxMTE0MzYgQzYyLjM3MTUxMjMsLTEuOTkwNzE3MDEgODAsMTAuNTAwMzkyNyA4MCwzNy43MzA0NDA1IEM4MCw2NC45NjA0ODgyIDY0Ljc3NjUwMzgsNzkuMDUwMzQxNCAzNC4zMjk1MTEzLDgwIEM0Ny4wNTUzNDg5LDc3LjU2NzA4MDggNTMuNDE4MjY3Nyw3MC4zMTM2MTAzIDUzLjQxODI2NzcsNTguMjM5NTg4NSBDNTMuNDE4MjY3Nyw0MC4xMjg1NTU3IDM2LjMwMzk1NDQsMzcuNzMwNDQwNSAyNS4yMjc0MTcsMzcuNzMwNDQwNSBDMTcuODQzMDU4NiwzNy43MzA0NDA1IDkuNDMzOTE5NjYsMzcuNzMwNDQwNSAwLDM3LjczMDQ0MDUgWiIgaWQ9IlBhdGgtMTkiIGZpbGw9IiMzNzkzRUYiPjwvcGF0aD4KICAgICAgICAgICAgPC9nPgogICAgICAgIDwvZz4KICAgIDwvZz4KPC9zdmc+' > </img>\nCreated in <span style='font-weight:600;margin-left:4px;'>Deepnote</span></a>",
   "metadata": {
    "tags": [],
    "created_in_deepnote_cell": true,
    "deepnote_cell_type": "markdown"
   }
  }
 ],
 "nbformat": 4,
 "nbformat_minor": 2,
 "metadata": {
  "orig_nbformat": 2,
  "deepnote": {
   "is_reactive": false
  },
  "deepnote_notebook_id": "16d1c43a-94cf-4bde-95d1-e5aff31a9a86",
  "deepnote_execution_queue": []
 }
}